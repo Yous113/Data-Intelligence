{
 "cells": [
  {
   "cell_type": "markdown",
   "id": "a16d0f52-8740-41f4-9556-0b1097487bf4",
   "metadata": {},
   "source": [
    "# Data Intelligence Exam"
   ]
  },
  {
   "cell_type": "markdown",
   "id": "32d43964-f430-4ea5-84d6-94f8b95d9a27",
   "metadata": {},
   "source": [
    "**Youssef Wassim Noureddine** | yono@itu.dk | Date: 2025-05-26  "
   ]
  },
  {
   "cell_type": "markdown",
   "id": "e9175e0a-24b2-433a-be3b-780a17fc54be",
   "metadata": {
    "jp-MarkdownHeadingCollapsed": true
   },
   "source": [
    "## Introduction\n",
    "\n",
    "This report analyses data from the 1994 U.S. Census, which includes information about people’s age, education, job, income, and more. The dataset gives a picture of life in the U.S. at the time and can help us understand how different factors, like education or working hours, relate to income levels.\n",
    "\n",
    "The data reflects important social and cultural issues, such as inequality and the structure of the job market in the 1990s. By analyzing this data, we can see which groups of people were more likely to earn higher or lower incomes and why.\n",
    "\n",
    "In the report, I will go through the following steps:\n",
    "\n",
    "1. Describe the data and its features  \n",
    "2. Ask a question based on the data and suggest a possible answer (hypothesis)  \n",
    "3. Clean and analyze the data using Python  \n",
    "4. Show results using graphs and explain what they mean  \n",
    "5. Discuss the findings and reflect on what they tell us about society\n",
    "\n",
    "The goal is to use data to explore real-world patterns and understand what they might say about life in the U.S. in 1994.\n"
   ]
  },
  {
   "cell_type": "markdown",
   "id": "16c2acff-6582-461a-8fba-7f34f08883bb",
   "metadata": {
    "jp-MarkdownHeadingCollapsed": true
   },
   "source": [
    "## Loading and overview"
   ]
  },
  {
   "cell_type": "markdown",
   "id": "63790b19-49f3-4f15-9ea7-adc76905fc52",
   "metadata": {
    "jp-MarkdownHeadingCollapsed": true
   },
   "source": [
    "### Loading the dataset"
   ]
  },
  {
   "cell_type": "markdown",
   "id": "5e9cc473-57e7-490d-b835-6ad22d0614cd",
   "metadata": {},
   "source": [
    "We start by importing the necessary libraries for loading the dataset"
   ]
  },
  {
   "cell_type": "code",
   "execution_count": 2,
   "id": "9ef0ed9c-3f82-490e-85b7-83df5967d58d",
   "metadata": {},
   "outputs": [],
   "source": [
    "import pandas as pd"
   ]
  },
  {
   "cell_type": "markdown",
   "id": "d2ea6f93-6134-4788-8519-9ef0313aa544",
   "metadata": {},
   "source": [
    "We load the dataset with pandas by using the `read_csv` method"
   ]
  },
  {
   "cell_type": "code",
   "execution_count": 3,
   "id": "71b18887-c9d5-4f3a-b25e-114bc761b8ec",
   "metadata": {},
   "outputs": [],
   "source": [
    "df = pd.read_csv(\"census-1994.csv\")"
   ]
  },
  {
   "cell_type": "markdown",
   "id": "be7778c7-11c1-4203-800d-0fe041f2d16d",
   "metadata": {},
   "source": [
    "We can use `head()` to see the first 5 rows to make sure the dataset is read"
   ]
  },
  {
   "cell_type": "code",
   "execution_count": 5,
   "id": "6c07d18b-b8e2-44f5-bc1e-274d213f7719",
   "metadata": {},
   "outputs": [
    {
     "data": {
      "text/html": [
       "<div>\n",
       "<style scoped>\n",
       "    .dataframe tbody tr th:only-of-type {\n",
       "        vertical-align: middle;\n",
       "    }\n",
       "\n",
       "    .dataframe tbody tr th {\n",
       "        vertical-align: top;\n",
       "    }\n",
       "\n",
       "    .dataframe thead th {\n",
       "        text-align: right;\n",
       "    }\n",
       "</style>\n",
       "<table border=\"1\" class=\"dataframe\">\n",
       "  <thead>\n",
       "    <tr style=\"text-align: right;\">\n",
       "      <th></th>\n",
       "      <th>age</th>\n",
       "      <th>workclass</th>\n",
       "      <th>education</th>\n",
       "      <th>marital_status</th>\n",
       "      <th>occupation</th>\n",
       "      <th>relationship</th>\n",
       "      <th>race</th>\n",
       "      <th>gender</th>\n",
       "      <th>capital_gain</th>\n",
       "      <th>capital_loss</th>\n",
       "      <th>hours_per_week</th>\n",
       "      <th>native_country</th>\n",
       "      <th>income_bracket</th>\n",
       "    </tr>\n",
       "  </thead>\n",
       "  <tbody>\n",
       "    <tr>\n",
       "      <th>0</th>\n",
       "      <td>39</td>\n",
       "      <td>State-gov</td>\n",
       "      <td>Bachelors</td>\n",
       "      <td>Never-married</td>\n",
       "      <td>Adm-clerical</td>\n",
       "      <td>Not-in-family</td>\n",
       "      <td>White</td>\n",
       "      <td>Male</td>\n",
       "      <td>2174</td>\n",
       "      <td>0</td>\n",
       "      <td>40</td>\n",
       "      <td>United-States</td>\n",
       "      <td>&lt;=50K</td>\n",
       "    </tr>\n",
       "    <tr>\n",
       "      <th>1</th>\n",
       "      <td>50</td>\n",
       "      <td>Self-emp-not-inc</td>\n",
       "      <td>Bachelors</td>\n",
       "      <td>Married-civ-spouse</td>\n",
       "      <td>Exec-managerial</td>\n",
       "      <td>Husband</td>\n",
       "      <td>White</td>\n",
       "      <td>Male</td>\n",
       "      <td>0</td>\n",
       "      <td>0</td>\n",
       "      <td>13</td>\n",
       "      <td>United-States</td>\n",
       "      <td>&lt;=50K</td>\n",
       "    </tr>\n",
       "    <tr>\n",
       "      <th>2</th>\n",
       "      <td>38</td>\n",
       "      <td>Private</td>\n",
       "      <td>HS-grad</td>\n",
       "      <td>Divorced</td>\n",
       "      <td>Handlers-cleaners</td>\n",
       "      <td>Not-in-family</td>\n",
       "      <td>White</td>\n",
       "      <td>Male</td>\n",
       "      <td>0</td>\n",
       "      <td>0</td>\n",
       "      <td>40</td>\n",
       "      <td>United-States</td>\n",
       "      <td>&lt;=50K</td>\n",
       "    </tr>\n",
       "    <tr>\n",
       "      <th>3</th>\n",
       "      <td>53</td>\n",
       "      <td>Private</td>\n",
       "      <td>11th</td>\n",
       "      <td>Married-civ-spouse</td>\n",
       "      <td>Handlers-cleaners</td>\n",
       "      <td>Husband</td>\n",
       "      <td>Black</td>\n",
       "      <td>Male</td>\n",
       "      <td>0</td>\n",
       "      <td>0</td>\n",
       "      <td>40</td>\n",
       "      <td>United-States</td>\n",
       "      <td>&lt;=50K</td>\n",
       "    </tr>\n",
       "    <tr>\n",
       "      <th>4</th>\n",
       "      <td>28</td>\n",
       "      <td>Private</td>\n",
       "      <td>Bachelors</td>\n",
       "      <td>Married-civ-spouse</td>\n",
       "      <td>Prof-specialty</td>\n",
       "      <td>Wife</td>\n",
       "      <td>Black</td>\n",
       "      <td>Female</td>\n",
       "      <td>0</td>\n",
       "      <td>0</td>\n",
       "      <td>40</td>\n",
       "      <td>Cuba</td>\n",
       "      <td>&lt;=50K</td>\n",
       "    </tr>\n",
       "  </tbody>\n",
       "</table>\n",
       "</div>"
      ],
      "text/plain": [
       "   age          workclass   education       marital_status  \\\n",
       "0   39          State-gov   Bachelors        Never-married   \n",
       "1   50   Self-emp-not-inc   Bachelors   Married-civ-spouse   \n",
       "2   38            Private     HS-grad             Divorced   \n",
       "3   53            Private        11th   Married-civ-spouse   \n",
       "4   28            Private   Bachelors   Married-civ-spouse   \n",
       "\n",
       "           occupation    relationship    race   gender  capital_gain  \\\n",
       "0        Adm-clerical   Not-in-family   White     Male          2174   \n",
       "1     Exec-managerial         Husband   White     Male             0   \n",
       "2   Handlers-cleaners   Not-in-family   White     Male             0   \n",
       "3   Handlers-cleaners         Husband   Black     Male             0   \n",
       "4      Prof-specialty            Wife   Black   Female             0   \n",
       "\n",
       "   capital_loss  hours_per_week  native_country income_bracket  \n",
       "0             0              40   United-States          <=50K  \n",
       "1             0              13   United-States          <=50K  \n",
       "2             0              40   United-States          <=50K  \n",
       "3             0              40   United-States          <=50K  \n",
       "4             0              40            Cuba          <=50K  "
      ]
     },
     "execution_count": 5,
     "metadata": {},
     "output_type": "execute_result"
    }
   ],
   "source": [
    "df.head()"
   ]
  },
  {
   "cell_type": "markdown",
   "id": "700a48ee-85d7-4491-81c9-12fe589d123f",
   "metadata": {},
   "source": [
    "This is the description given with the data:\n",
    "\n",
    "Census data from USA gathered in 1994. Contains demographic information\n",
    "about US citizens. These values are self-reported by the participating\n",
    "citizens.\n",
    "\n",
    "- age: Age of the person\n",
    "- workclass: Type of employment of the person\n",
    "- education: Education of the person\n",
    "- marital_status: Civil status of the person\n",
    "- occupation: The person's job\n",
    "- relationship: The person's position in a family\n",
    "- race: Note: The race category in US censuses is self-reported but with\n",
    "  given possible values. These have changed over time.\n",
    "- gender: This value is also restricted by the census form.\n",
    "- capital_gain: How much the person made selling assets\n",
    "- capital_loss: How much the person lost selling assets\n",
    "- hours_per_week: How many hours the person works per week\n",
    "- native_country: The native country of the person\n",
    "- income_bracket: Whether the person earns more or less than 50.000 USD\n",
    "  a year"
   ]
  },
  {
   "cell_type": "markdown",
   "id": "ecc063bb-f4d6-42ac-87eb-2f73e12b6f48",
   "metadata": {
    "jp-MarkdownHeadingCollapsed": true
   },
   "source": [
    "### Describing the variables"
   ]
  },
  {
   "cell_type": "markdown",
   "id": "dab736c5-0aba-4c9a-bf66-5ea638e9f832",
   "metadata": {},
   "source": [
    "We can start by using `info()` method to get basic info about the dataset"
   ]
  },
  {
   "cell_type": "code",
   "execution_count": 6,
   "id": "dc09c9e6-e228-4fc1-b795-8490245ea3f9",
   "metadata": {},
   "outputs": [
    {
     "name": "stdout",
     "output_type": "stream",
     "text": [
      "<class 'pandas.core.frame.DataFrame'>\n",
      "RangeIndex: 32561 entries, 0 to 32560\n",
      "Data columns (total 13 columns):\n",
      " #   Column          Non-Null Count  Dtype \n",
      "---  ------          --------------  ----- \n",
      " 0   age             32561 non-null  int64 \n",
      " 1   workclass       32561 non-null  object\n",
      " 2   education       32561 non-null  object\n",
      " 3   marital_status  32561 non-null  object\n",
      " 4   occupation      32561 non-null  object\n",
      " 5   relationship    32561 non-null  object\n",
      " 6   race            32561 non-null  object\n",
      " 7   gender          32561 non-null  object\n",
      " 8   capital_gain    32561 non-null  int64 \n",
      " 9   capital_loss    32561 non-null  int64 \n",
      " 10  hours_per_week  32561 non-null  int64 \n",
      " 11  native_country  32561 non-null  object\n",
      " 12  income_bracket  32561 non-null  object\n",
      "dtypes: int64(4), object(9)\n",
      "memory usage: 3.2+ MB\n"
     ]
    }
   ],
   "source": [
    "df.info()"
   ]
  },
  {
   "cell_type": "markdown",
   "id": "035d921d-929e-42a1-b6d4-0600e160ec66",
   "metadata": {},
   "source": [
    "Here we can see there is 12 columns, 4 numerical and 8 categorical."
   ]
  },
  {
   "cell_type": "markdown",
   "id": "b170e7c8-d96d-491d-8daa-035316d36856",
   "metadata": {
    "jp-MarkdownHeadingCollapsed": true
   },
   "source": [
    "#### Describing Numerical Variables\n",
    "\n",
    "We start by looking at the numerical columns"
   ]
  },
  {
   "cell_type": "code",
   "execution_count": 8,
   "id": "1a296151-0c91-45e1-8dc8-cc0158f2e4e0",
   "metadata": {},
   "outputs": [
    {
     "data": {
      "text/html": [
       "<div>\n",
       "<style scoped>\n",
       "    .dataframe tbody tr th:only-of-type {\n",
       "        vertical-align: middle;\n",
       "    }\n",
       "\n",
       "    .dataframe tbody tr th {\n",
       "        vertical-align: top;\n",
       "    }\n",
       "\n",
       "    .dataframe thead th {\n",
       "        text-align: right;\n",
       "    }\n",
       "</style>\n",
       "<table border=\"1\" class=\"dataframe\">\n",
       "  <thead>\n",
       "    <tr style=\"text-align: right;\">\n",
       "      <th></th>\n",
       "      <th>age</th>\n",
       "      <th>capital_gain</th>\n",
       "      <th>capital_loss</th>\n",
       "      <th>hours_per_week</th>\n",
       "    </tr>\n",
       "  </thead>\n",
       "  <tbody>\n",
       "    <tr>\n",
       "      <th>count</th>\n",
       "      <td>32561.000000</td>\n",
       "      <td>32561.000000</td>\n",
       "      <td>32561.000000</td>\n",
       "      <td>32561.000000</td>\n",
       "    </tr>\n",
       "    <tr>\n",
       "      <th>mean</th>\n",
       "      <td>38.581647</td>\n",
       "      <td>1077.648844</td>\n",
       "      <td>87.303830</td>\n",
       "      <td>40.437456</td>\n",
       "    </tr>\n",
       "    <tr>\n",
       "      <th>std</th>\n",
       "      <td>13.640433</td>\n",
       "      <td>7385.292085</td>\n",
       "      <td>402.960219</td>\n",
       "      <td>12.347429</td>\n",
       "    </tr>\n",
       "    <tr>\n",
       "      <th>min</th>\n",
       "      <td>17.000000</td>\n",
       "      <td>0.000000</td>\n",
       "      <td>0.000000</td>\n",
       "      <td>1.000000</td>\n",
       "    </tr>\n",
       "    <tr>\n",
       "      <th>25%</th>\n",
       "      <td>28.000000</td>\n",
       "      <td>0.000000</td>\n",
       "      <td>0.000000</td>\n",
       "      <td>40.000000</td>\n",
       "    </tr>\n",
       "    <tr>\n",
       "      <th>50%</th>\n",
       "      <td>37.000000</td>\n",
       "      <td>0.000000</td>\n",
       "      <td>0.000000</td>\n",
       "      <td>40.000000</td>\n",
       "    </tr>\n",
       "    <tr>\n",
       "      <th>75%</th>\n",
       "      <td>48.000000</td>\n",
       "      <td>0.000000</td>\n",
       "      <td>0.000000</td>\n",
       "      <td>45.000000</td>\n",
       "    </tr>\n",
       "    <tr>\n",
       "      <th>max</th>\n",
       "      <td>90.000000</td>\n",
       "      <td>99999.000000</td>\n",
       "      <td>4356.000000</td>\n",
       "      <td>99.000000</td>\n",
       "    </tr>\n",
       "  </tbody>\n",
       "</table>\n",
       "</div>"
      ],
      "text/plain": [
       "                age  capital_gain  capital_loss  hours_per_week\n",
       "count  32561.000000  32561.000000  32561.000000    32561.000000\n",
       "mean      38.581647   1077.648844     87.303830       40.437456\n",
       "std       13.640433   7385.292085    402.960219       12.347429\n",
       "min       17.000000      0.000000      0.000000        1.000000\n",
       "25%       28.000000      0.000000      0.000000       40.000000\n",
       "50%       37.000000      0.000000      0.000000       40.000000\n",
       "75%       48.000000      0.000000      0.000000       45.000000\n",
       "max       90.000000  99999.000000   4356.000000       99.000000"
      ]
     },
     "execution_count": 8,
     "metadata": {},
     "output_type": "execute_result"
    }
   ],
   "source": [
    "df.describe()"
   ]
  },
  {
   "cell_type": "markdown",
   "id": "eb818c3e-d31f-4b1e-8fda-e55a6f027d3a",
   "metadata": {},
   "source": [
    "Using `df.describe()`, we observed the following:\n",
    "\n",
    "The dataset contains four numerical variables: `age`, `capital_gain`, `capital_loss`, and `hours_per_week`.\n",
    "\n",
    "- **age**: The average age is approximately 38.6 years, with a minimum of 17 and a maximum of 90. The distribution appears to be right-skewed, with most individuals clustered around the 30–40 age range.\n",
    "\n",
    "- **capital_gain**: The average capital gain is 1077, but the median is 0, indicating that the majority of individuals reported no capital gain. The high maximum value (99999) and large standard deviation suggest the presence of a few outliers with substantial gains.\n",
    "\n",
    "- **capital_loss**: Similar to capital gain, most individuals reported no capital loss (median = 0). The average loss is low (~87), but the maximum value (4356) indicates a few notable cases. This variable is also heavily skewed.\n",
    "\n",
    "- **hours_per_week**: The average person works about 40.4 hours per week. The distribution is centered around 40 hours, with a minimum of 1 and a maximum of 99. This aligns with typical full-time work schedules, though a few extreme values suggest part-time or overtime work.\n",
    "\n"
   ]
  },
  {
   "cell_type": "markdown",
   "id": "6b3cbd60-9bf1-4406-a436-ba15d17c5e5e",
   "metadata": {
    "jp-MarkdownHeadingCollapsed": true
   },
   "source": [
    "#### Describing Categorial Variables\n"
   ]
  },
  {
   "cell_type": "code",
   "execution_count": 17,
   "id": "33c1cacb-e541-4e02-a4c6-aa261f1d2a3d",
   "metadata": {},
   "outputs": [
    {
     "data": {
      "text/html": [
       "<div>\n",
       "<style scoped>\n",
       "    .dataframe tbody tr th:only-of-type {\n",
       "        vertical-align: middle;\n",
       "    }\n",
       "\n",
       "    .dataframe tbody tr th {\n",
       "        vertical-align: top;\n",
       "    }\n",
       "\n",
       "    .dataframe thead th {\n",
       "        text-align: right;\n",
       "    }\n",
       "</style>\n",
       "<table border=\"1\" class=\"dataframe\">\n",
       "  <thead>\n",
       "    <tr style=\"text-align: right;\">\n",
       "      <th></th>\n",
       "      <th>workclass</th>\n",
       "      <th>education</th>\n",
       "      <th>marital_status</th>\n",
       "      <th>occupation</th>\n",
       "      <th>relationship</th>\n",
       "      <th>race</th>\n",
       "      <th>gender</th>\n",
       "      <th>native_country</th>\n",
       "      <th>income_bracket</th>\n",
       "    </tr>\n",
       "  </thead>\n",
       "  <tbody>\n",
       "    <tr>\n",
       "      <th>count</th>\n",
       "      <td>32561</td>\n",
       "      <td>32561</td>\n",
       "      <td>32561</td>\n",
       "      <td>32561</td>\n",
       "      <td>32561</td>\n",
       "      <td>32561</td>\n",
       "      <td>32561</td>\n",
       "      <td>32561</td>\n",
       "      <td>32561</td>\n",
       "    </tr>\n",
       "    <tr>\n",
       "      <th>unique</th>\n",
       "      <td>9</td>\n",
       "      <td>17</td>\n",
       "      <td>7</td>\n",
       "      <td>15</td>\n",
       "      <td>6</td>\n",
       "      <td>5</td>\n",
       "      <td>3</td>\n",
       "      <td>42</td>\n",
       "      <td>2</td>\n",
       "    </tr>\n",
       "    <tr>\n",
       "      <th>top</th>\n",
       "      <td>Private</td>\n",
       "      <td>HS-grad</td>\n",
       "      <td>Married-civ-spouse</td>\n",
       "      <td>Prof-specialty</td>\n",
       "      <td>Husband</td>\n",
       "      <td>White</td>\n",
       "      <td>Male</td>\n",
       "      <td>United-States</td>\n",
       "      <td>&lt;=50K</td>\n",
       "    </tr>\n",
       "    <tr>\n",
       "      <th>freq</th>\n",
       "      <td>22696</td>\n",
       "      <td>10199</td>\n",
       "      <td>14976</td>\n",
       "      <td>4140</td>\n",
       "      <td>13193</td>\n",
       "      <td>27816</td>\n",
       "      <td>20741</td>\n",
       "      <td>29170</td>\n",
       "      <td>24720</td>\n",
       "    </tr>\n",
       "  </tbody>\n",
       "</table>\n",
       "</div>"
      ],
      "text/plain": [
       "       workclass education       marital_status       occupation relationship  \\\n",
       "count      32561     32561                32561            32561        32561   \n",
       "unique         9        17                    7               15            6   \n",
       "top      Private   HS-grad   Married-civ-spouse   Prof-specialty      Husband   \n",
       "freq       22696     10199                14976             4140        13193   \n",
       "\n",
       "          race gender  native_country income_bracket  \n",
       "count    32561  32561           32561          32561  \n",
       "unique       5      3              42              2  \n",
       "top      White   Male   United-States          <=50K  \n",
       "freq     27816  20741           29170          24720  "
      ]
     },
     "execution_count": 17,
     "metadata": {},
     "output_type": "execute_result"
    }
   ],
   "source": [
    "df.describe(include=\"object\")"
   ]
  },
  {
   "cell_type": "markdown",
   "id": "aaf8cd63-f387-4b9a-a61f-dd10121b716e",
   "metadata": {},
   "source": [
    "Using `df.describe(include=\"object\")`, which, we observed the following:\n",
    "\n",
    "- **workclass**: Contains 9 unique categories. The most frequent is \"Private\", which makes up 22,696 of the 32,561 entries, suggesting that the private sector dominates the employment landscape in this dataset.\n",
    "\n",
    "- **education**: Has 17 unique levels. \"HS-grad\" is the most common, appearing 10,199 times, indicating a high proportion of individuals with a high school diploma.\n",
    "\n",
    "- **marital_status**: 7 unique categories, with \"Married-civ-spouse\" being the most frequent at 14,976. This suggests many individuals in the dataset are married.\n",
    "\n",
    "- **occupation**: Includes 15 different job categories. The most common is \"Prof-specialty\" with 4,140 entries, showing a concentration in professional occupations.\n",
    "\n",
    "- **relationship**: 6 unique values. \"Husband\" is the top category (13,193), reflecting traditional family roles.\n",
    "\n",
    "- **race**: There are 5 race categories, with \"White\" being dominant (27,816), consistent with the demographic makeup of the U.S. in 1994.\n",
    "\n",
    "- **gender**: 3 categories are listed (likely including some data noise), but \"Male\" is the most frequent with 20,741 entries.\n",
    "\n",
    "- **native_country**: Highly diverse with 42 unique countries represented. However, \"United-States\" dominates (29,170 out of 32,561), indicating a mostly domestic population with some international representation.\n",
    "\n",
    "- **income_bracket**: Binary classification. `<=50K` is the top category, appearing 24,720 times, showing that most individuals earn under $50,000 per year.\n"
   ]
  },
  {
   "cell_type": "markdown",
   "id": "1fa95fc9-8d93-4a55-96a6-cda45b188fd1",
   "metadata": {},
   "source": [
    "To further investigate the `gender` column, we use the `.unique()` method to inspect all distinct values. This helps identify any unexpected or placeholder entries."
   ]
  },
  {
   "cell_type": "code",
   "execution_count": 35,
   "id": "2167bfbf-59c1-4d85-ad0b-93b690173210",
   "metadata": {},
   "outputs": [
    {
     "data": {
      "text/plain": [
       "array([' Male', ' Female', ' ?'], dtype=object)"
      ]
     },
     "execution_count": 35,
     "metadata": {},
     "output_type": "execute_result"
    }
   ],
   "source": [
    "df['gender'].unique()"
   ]
  },
  {
   "cell_type": "markdown",
   "id": "b9cb31a5-500a-4c2c-8565-0d35eb8d1775",
   "metadata": {},
   "source": [
    "After running .unique(), we observe an unexpected value `?`, which likely represents missing or unreported data."
   ]
  },
  {
   "cell_type": "markdown",
   "id": "f5207ca0-bf84-468e-922f-e18ada2f5406",
   "metadata": {},
   "source": [
    "Having completed the initial data description, we now move on to exploring the dataset in greater depth."
   ]
  },
  {
   "cell_type": "markdown",
   "id": "74e1de43-e58a-4e74-a330-102f1bdbab86",
   "metadata": {},
   "source": [
    "# Exploration"
   ]
  },
  {
   "cell_type": "markdown",
   "id": "eaa5c7b1-8362-4433-83a9-0431c374c601",
   "metadata": {},
   "source": [
    "We begin by importing the necessary libraries for data exploration."
   ]
  },
  {
   "cell_type": "code",
   "execution_count": 45,
   "id": "a2b20f5d-74fe-4f8b-b731-75fd8980d323",
   "metadata": {},
   "outputs": [],
   "source": [
    "import matplotlib.pyplot as plt\n",
    "import seaborn as sns\n",
    "import numpy as np"
   ]
  },
  {
   "cell_type": "markdown",
   "id": "adbf48c9-15fc-4024-b5fe-631156215872",
   "metadata": {},
   "source": [
    "## Age distribution"
   ]
  },
  {
   "cell_type": "markdown",
   "id": "161f4211-1831-4e3b-a71d-23d5892d0721",
   "metadata": {},
   "source": [
    "We start by visualizing the distribution of the age column to understand the `age` demographics of individuals in the dataset. This can help us identify if certain age groups are overrepresented or underrepresented, and whether the distribution is balanced or skewed.\n",
    "\n",
    "We visualize the distribution in a histogram. We created the histogram using the `histplot()` function from the Seaborn library, which is useful for visualizing the distribution of numeric data. We set `kde=True` to add a smooth curve showing the overall shape of the distribution, and bins=30 to divide the data into 30 age intervals."
   ]
  },
  {
   "cell_type": "code",
   "execution_count": 46,
   "id": "5d7b26a6-70ff-43f8-9787-33f4fad537f4",
   "metadata": {},
   "outputs": [
    {
     "data": {
      "image/png": "[encoded data removed]",
      "text/plain": [
       "<Figure size 800x400 with 1 Axes>"
      ]
     },
     "metadata": {},
     "output_type": "display_data"
    }
   ],
   "source": [
    "plt.figure(figsize=(8, 4))\n",
    "sns.histplot(data=df, x='age', kde=True, bins=30)\n",
    "plt.title('Age Distribution')\n",
    "plt.xlabel('Age')\n",
    "plt.ylabel('Frequency')\n",
    "plt.show()"
   ]
  },
  {
   "cell_type": "markdown",
   "id": "b068e51c-5168-414e-a4de-a7dd3e784b9f",
   "metadata": {},
   "source": [
    "The age distribution is right-skewed, with most individuals between 20 and 50 years old. There is a noticeable drop in frequency after age 60, and very few people are older than 80. This suggests the dataset is mostly composed of working-age individuals, which aligns with the focus on employment and income."
   ]
  },
  {
   "cell_type": "markdown",
   "id": "f386d2f8-8d12-4b96-98bc-d093cd65ba8a",
   "metadata": {},
   "source": [
    "## Hours per week distribution"
   ]
  },
  {
   "cell_type": "markdown",
   "id": "e5e38b89-1e66-4fa2-9cc0-c73270279dc0",
   "metadata": {},
   "source": [
    "Next, we explore the `hours_per_week` column to understand how much people work on average. This can reveal whether most individuals work full-time, part-time, or have unusual working hours. It may also help identify outliers or patterns related to work intensity in the population.\n",
    "\n",
    "We use the `histplot()` function from Seaborn again to create a histogram of weekly working hours. As before, we include a kernel density curve `(kde=True)` to better visualize the overall shape of the distribution, and divide the data into 30 bins for granularity."
   ]
  },
  {
   "cell_type": "code",
   "execution_count": 47,
   "id": "9d348834-eb27-4372-bc2b-5b8d083aa5fd",
   "metadata": {},
   "outputs": [
    {
     "data": {
      "image/png": "[encoded data removed]",
      "text/plain": [
       "<Figure size 800x400 with 1 Axes>"
      ]
     },
     "metadata": {},
     "output_type": "display_data"
    }
   ],
   "source": [
    "plt.figure(figsize=(8, 4))\n",
    "sns.histplot(data=df, x='hours_per_week', kde=True, bins=30)\n",
    "plt.title('Hours Worked per Week Distribution')\n",
    "plt.xlabel('Hours per Week')\n",
    "plt.ylabel('Frequency')\n",
    "plt.show()\n"
   ]
  },
  {
   "cell_type": "markdown",
   "id": "377a6ddd-1656-492a-951b-5c2752679cc7",
   "metadata": {},
   "source": [
    "The distribution of `hours_per_week` is centered around 40 hours, which aligns with standard full-time employment in the U.S. There are smaller peaks at 20 hours and 60 hours, likely representing part-time workers and individuals working extended hours. The long tail toward higher values suggests that some individuals may be working significantly more than average, potentially due to multiple jobs or overtime. Overall, the majority of the dataset represents typical full-time workers.\n",
    "\n"
   ]
  },
  {
   "cell_type": "markdown",
   "id": "0b4f1845-fb47-4aa4-91dc-9504c1faf222",
   "metadata": {},
   "source": [
    "## Hours worked by income bracket"
   ]
  },
  {
   "cell_type": "markdown",
   "id": "7da5de85-f490-4c26-8c7e-c95043ad52a5",
   "metadata": {},
   "source": [
    "Now that we've seen the overall distribution of working hours, we want to investigate whether working more hours is associated with earning more. To do this, we compare `hours_per_week` across the two income brackets `(<=50K and >50K)`. This can help us understand if there's a clear difference in working hours between low- and high-income individuals.\n",
    "\n",
    "We use a boxplot from Seaborn to compare the distribution of `hours_per_week` for each income group. Boxplots are useful for showing medians, spread, and outliers in numerical data across categories."
   ]
  },
  {
   "cell_type": "code",
   "execution_count": 48,
   "id": "8539bb6a-15ab-421f-b694-4d7616c6f7ba",
   "metadata": {},
   "outputs": [
    {
     "data": {
      "image/png": "[encoded data removed]",
      "text/plain": [
       "<Figure size 800x400 with 1 Axes>"
      ]
     },
     "metadata": {},
     "output_type": "display_data"
    }
   ],
   "source": [
    "plt.figure(figsize=(8, 4))\n",
    "sns.boxplot(data=df, x='income_bracket', y='hours_per_week')\n",
    "plt.title('Hours Worked per Week by Income Bracket')\n",
    "plt.xlabel('Income Bracket')\n",
    "plt.ylabel('Hours per Week')\n",
    "plt.show()\n"
   ]
  },
  {
   "cell_type": "markdown",
   "id": "5a51107f-44ab-49bb-affd-7d8d126f9317",
   "metadata": {},
   "source": [
    "The boxplot shows that individuals earning more than 50K tend to work more hours per week on average than those earning $50K or less. The median is slightly higher, and the overall range of hours is wider for the higher-income group. However, there is still significant overlap between the two groups, with many individuals in the lower income bracket also working 40+ hours per week. This suggests that while working more hours may be correlated with earning more, it is not the only factor influencing income."
   ]
  },
  {
   "cell_type": "markdown",
   "id": "a4249e72-5310-425d-84d4-c968989d0882",
   "metadata": {},
   "source": [
    "## Education vs Income"
   ]
  },
  {
   "cell_type": "markdown",
   "id": "08a07134-f98f-45af-b1a9-22256ff49a20",
   "metadata": {},
   "source": [
    "Education is often considered a key factor influencing income. Therefore, by comparing education levels with income brackets, we can explore whether individuals with higher education are more likely to earn over $50K per year. This comparison helps us understand the potential impact of education on income distribution in the dataset."
   ]
  },
  {
   "cell_type": "markdown",
   "id": "7fce4407-012b-4604-9b71-c92acbd8b4ed",
   "metadata": {},
   "source": [
    "### Education level distribution\n"
   ]
  },
  {
   "cell_type": "markdown",
   "id": "22d16aef-c379-4601-8c09-ef53db9872dd",
   "metadata": {},
   "source": [
    "We start by examining how education is distributed across the dataset. This helps us see which education levels are most common and provides context before comparing with income.\n",
    "\n",
    "We use Seaborn’s `countplot()` to show how many individuals fall into each education level."
   ]
  },
  {
   "cell_type": "code",
   "execution_count": 49,
   "id": "5d3fc4bc-6ed8-47e3-b1e0-edc1804f3b02",
   "metadata": {},
   "outputs": [
    {
     "data": {
      "image/png": "[encoded data removed]",
      "text/plain": [
       "<Figure size 1200x500 with 1 Axes>"
      ]
     },
     "metadata": {},
     "output_type": "display_data"
    }
   ],
   "source": [
    "plt.figure(figsize=(12, 5))\n",
    "sns.countplot(data=df, x='education', order=df['education'].value_counts().index)\n",
    "plt.title('Distribution of Education Levels')\n",
    "plt.xlabel('Education Level')\n",
    "plt.ylabel('Count')\n",
    "plt.xticks(rotation=45)\n",
    "plt.show()\n"
   ]
  },
  {
   "cell_type": "markdown",
   "id": "80472977-d035-45e3-9578-7fe1ad22006d",
   "metadata": {},
   "source": [
    "The most common education levels in the dataset are HS-grad, Some-college, and Bachelors. This suggests that a large portion of the population has at least a high school diploma or some higher education, which is useful context when analyzing income.\n",
    "\n"
   ]
  },
  {
   "cell_type": "markdown",
   "id": "88b4f51a-e4b1-440c-9d83-1bb988f38735",
   "metadata": {},
   "source": [
    "Now that we understand the education distribution, we want to see how it relates to income. This can help reveal whether higher education is associated with a greater likelihood of earning more than $50K.\n",
    "\n",
    "We use a `countplot()` with the hue set to `income_bracket` to compare income levels within each education group."
   ]
  },
  {
   "cell_type": "code",
   "execution_count": 50,
   "id": "7f6ee48f-e7c7-4e86-b85d-ea4bde11885f",
   "metadata": {},
   "outputs": [
    {
     "data": {
      "image/png": "[encoded data removed]",
      "text/plain": [
       "<Figure size 1200x500 with 1 Axes>"
      ]
     },
     "metadata": {},
     "output_type": "display_data"
    }
   ],
   "source": [
    "plt.figure(figsize=(12, 5))\n",
    "sns.countplot(data=df, x='education', hue='income_bracket', order=df['education'].value_counts().index)\n",
    "plt.title('Income Bracket by Education Level')\n",
    "plt.xlabel('Education Level')\n",
    "plt.ylabel('Count')\n",
    "plt.xticks(rotation=45)\n",
    "plt.legend(title='Income Bracket')\n",
    "plt.show()\n"
   ]
  },
  {
   "cell_type": "markdown",
   "id": "e092dbe4-cc56-4181-9863-e8c1c716d4d9",
   "metadata": {},
   "source": [
    "We can see a clear pattern: people with higher education levels like a bachelor's, master's, or doctorate are more likely to earn over 50K. On the other hand, those with lower education levels mostly fall into the $50K or less group. This suggests that having more education is often linked to earning a higher income."
   ]
  },
  {
   "cell_type": "markdown",
   "id": "0eb74cb0-8635-42ac-b881-b5128f287629",
   "metadata": {},
   "source": [
    "## Capital gain distribution"
   ]
  },
  {
   "cell_type": "markdown",
   "id": "8e1ff7b1-3f18-4a89-a588-13d71860eeb5",
   "metadata": {},
   "source": [
    "The `capital_gain` column represents how much profit individuals made from selling assets, such as stocks or property. We want to explore how these gains are distributed, as they can indicate wealth levels and potentially relate to higher income brackets.\n",
    "\n",
    "We use Seaborn’s `histplot()` to visualize the distribution of `capital_gain`. Since most values are zero and a few are very large, we apply a log transformation (log1p, i.e. log(x + 1)) to better visualize the spread without being overwhelmed by outliers.<sup>1</sup>"
   ]
  },
  {
   "cell_type": "code",
   "execution_count": 52,
   "id": "ed5889f3-cfd2-467e-9fb8-f21ce573543c",
   "metadata": {},
   "outputs": [
    {
     "data": {
      "image/png": "[encoded data removed]",
      "text/plain": [
       "<Figure size 800x400 with 1 Axes>"
      ]
     },
     "metadata": {},
     "output_type": "display_data"
    }
   ],
   "source": [
    "df['capital_gain_log'] = np.log1p(df['capital_gain'])\n",
    "\n",
    "plt.figure(figsize=(8, 4))\n",
    "sns.histplot(data=df, x='capital_gain_log', bins=30, kde=True)\n",
    "plt.title('Distribution of Capital Gain (Log Scale)')\n",
    "plt.xlabel('log(1 + Capital Gain)')\n",
    "plt.ylabel('Frequency')\n",
    "plt.show()\n"
   ]
  },
  {
   "cell_type": "markdown",
   "id": "43f8ca74-6c5a-4d84-a387-fd1080f98880",
   "metadata": {},
   "source": [
    "As expected, most individuals have zero capital gain, indicating they likely didn’t earn income from investments. A small group has higher values, with sharp peaks at common gain thresholds (e.g., 3,000 or 10,000+). This suggests only a minority of the population benefits from capital income, and those who do may belong to wealthier groups. The log scale<sup>1</sup> makes it easier to visualize this skewed distribution."
   ]
  },
  {
   "cell_type": "markdown",
   "id": "53f253a5-242c-44a2-bd5a-7cc9e03a45b1",
   "metadata": {},
   "source": [
    "## Capital gain by income bracket"
   ]
  },
  {
   "cell_type": "markdown",
   "id": "07b1c921-a647-4640-b4e8-ae95de404833",
   "metadata": {},
   "source": [
    "After visualizing the overall distribution of capital gain, we now want to compare capital gains across income groups. This can help reveal whether individuals earning more than $50K are also more likely to have income from investments or asset sales.\n",
    "\n",
    "We use a boxplot to compare the (log-transformed) capital_gain for each income bracket. The log transformation (log1p) helps reduce the effect of extreme outliers and makes patterns more visible.<sup>1</sup>"
   ]
  },
  {
   "cell_type": "code",
   "execution_count": 55,
   "id": "3613720c-72dd-438c-be96-5799e7612a28",
   "metadata": {},
   "outputs": [
    {
     "data": {
      "image/png": "[encoded data removed]",
      "text/plain": [
       "<Figure size 800x400 with 1 Axes>"
      ]
     },
     "metadata": {},
     "output_type": "display_data"
    }
   ],
   "source": [
    "plt.figure(figsize=(8, 4))\n",
    "sns.boxplot(data=df, x='income_bracket', y='capital_gain_log')\n",
    "plt.title('Capital Gain by Income Bracket (Log Scale)')\n",
    "plt.xlabel('Income Bracket')\n",
    "plt.ylabel('log(1 + Capital Gain)')\n",
    "plt.show()\n"
   ]
  },
  {
   "cell_type": "markdown",
   "id": "b30fd43e-d114-42c8-ae7d-b494fe49c41a",
   "metadata": {},
   "source": [
    "The boxplot shows that most individuals in both income brackets have 0 capital gain (flat baseline). However, among those who do report gains, the >50K income group clearly includes more individuals with higher values. This suggest that capital gains are more common among higher-income individuals."
   ]
  },
  {
   "cell_type": "markdown",
   "id": "8aa664ee-3d9d-40fd-8d87-2ff038dc3af8",
   "metadata": {},
   "source": [
    "# Research questions and hypothesis"
   ]
  },
  {
   "cell_type": "markdown",
   "id": "4559cafe-1a80-4160-b40b-3a1c34dc7a22",
   "metadata": {},
   "source": [
    "## Preprocessing"
   ]
  },
  {
   "cell_type": "markdown",
   "id": "88cd72bb-a26a-4894-9233-a1a5bd99dc17",
   "metadata": {},
   "source": [
    "First we need to clean the data to make the values are valid."
   ]
  },
  {
   "cell_type": "markdown",
   "id": "1be299e4-09a8-4f17-862b-77488657d0cf",
   "metadata": {},
   "source": [
    "### Dropping rows with `?` as value"
   ]
  },
  {
   "cell_type": "markdown",
   "id": "6eacfa44-a73f-43c1-aab6-7e2d155ecd4a",
   "metadata": {},
   "source": [
    "Some columns in the dataset, such as gender, contain missing values represented by the placeholder `?`. We are going to remove these rows, to make sure that our analysis is based on complete and reliable data. Since only a small part of the dataset will be removed, this should not affect the results in a meaningful way.\n",
    "\n",
    "First we will find all the columns that contains the string `?`."
   ]
  },
  {
   "cell_type": "code",
   "execution_count": 62,
   "id": "97f0d3b1-42f0-489b-8f47-8323f8496afb",
   "metadata": {},
   "outputs": [
    {
     "name": "stdout",
     "output_type": "stream",
     "text": [
      "workclass\n",
      "education\n",
      "occupation\n",
      "gender\n",
      "native_country\n"
     ]
    }
   ],
   "source": [
    "for col in df.columns:\n",
    "    if df[col].dtype == 'object' and df[col].str.contains(' \\?').any():\n",
    "        print(col)"
   ]
  },
  {
   "cell_type": "markdown",
   "id": "77059291-63a0-46ef-8a7f-8b352b362406",
   "metadata": {},
   "source": [
    "The following columns contains the string `?`.\n",
    "\n",
    "Now we replace `?` with `NaN` and then we can use `.dropna()` to delete all the rows with missing values"
   ]
  },
  {
   "cell_type": "code",
   "execution_count": 68,
   "id": "67549c89-0315-41c8-b151-9b8126c77b40",
   "metadata": {},
   "outputs": [],
   "source": [
    "df.replace(' ?', np.nan, inplace=True)\n",
    "df = df.dropna()"
   ]
  },
  {
   "cell_type": "code",
   "execution_count": 69,
   "id": "172c8d3f-1be5-49b4-94bc-0b7266046831",
   "metadata": {},
   "outputs": [
    {
     "data": {
      "text/html": [
       "<div>\n",
       "<style scoped>\n",
       "    .dataframe tbody tr th:only-of-type {\n",
       "        vertical-align: middle;\n",
       "    }\n",
       "\n",
       "    .dataframe tbody tr th {\n",
       "        vertical-align: top;\n",
       "    }\n",
       "\n",
       "    .dataframe thead th {\n",
       "        text-align: right;\n",
       "    }\n",
       "</style>\n",
       "<table border=\"1\" class=\"dataframe\">\n",
       "  <thead>\n",
       "    <tr style=\"text-align: right;\">\n",
       "      <th></th>\n",
       "      <th>workclass</th>\n",
       "      <th>education</th>\n",
       "      <th>marital_status</th>\n",
       "      <th>occupation</th>\n",
       "      <th>relationship</th>\n",
       "      <th>race</th>\n",
       "      <th>gender</th>\n",
       "      <th>native_country</th>\n",
       "      <th>income_bracket</th>\n",
       "    </tr>\n",
       "  </thead>\n",
       "  <tbody>\n",
       "    <tr>\n",
       "      <th>count</th>\n",
       "      <td>27787</td>\n",
       "      <td>27787</td>\n",
       "      <td>27787</td>\n",
       "      <td>27787</td>\n",
       "      <td>27787</td>\n",
       "      <td>27787</td>\n",
       "      <td>27787</td>\n",
       "      <td>27787</td>\n",
       "      <td>27787</td>\n",
       "    </tr>\n",
       "    <tr>\n",
       "      <th>unique</th>\n",
       "      <td>7</td>\n",
       "      <td>16</td>\n",
       "      <td>7</td>\n",
       "      <td>14</td>\n",
       "      <td>6</td>\n",
       "      <td>5</td>\n",
       "      <td>2</td>\n",
       "      <td>41</td>\n",
       "      <td>2</td>\n",
       "    </tr>\n",
       "    <tr>\n",
       "      <th>top</th>\n",
       "      <td>Private</td>\n",
       "      <td>HS-grad</td>\n",
       "      <td>Married-civ-spouse</td>\n",
       "      <td>Craft-repair</td>\n",
       "      <td>Husband</td>\n",
       "      <td>White</td>\n",
       "      <td>Male</td>\n",
       "      <td>United-States</td>\n",
       "      <td>&lt;=50K</td>\n",
       "    </tr>\n",
       "    <tr>\n",
       "      <th>freq</th>\n",
       "      <td>20541</td>\n",
       "      <td>9085</td>\n",
       "      <td>13003</td>\n",
       "      <td>3730</td>\n",
       "      <td>11535</td>\n",
       "      <td>23922</td>\n",
       "      <td>18787</td>\n",
       "      <td>25350</td>\n",
       "      <td>20824</td>\n",
       "    </tr>\n",
       "  </tbody>\n",
       "</table>\n",
       "</div>"
      ],
      "text/plain": [
       "       workclass education       marital_status     occupation relationship  \\\n",
       "count      27787     27787                27787          27787        27787   \n",
       "unique         7        16                    7             14            6   \n",
       "top      Private   HS-grad   Married-civ-spouse   Craft-repair      Husband   \n",
       "freq       20541      9085                13003           3730        11535   \n",
       "\n",
       "          race gender  native_country income_bracket  \n",
       "count    27787  27787           27787          27787  \n",
       "unique       5      2              41              2  \n",
       "top      White   Male   United-States          <=50K  \n",
       "freq     23922  18787           25350          20824  "
      ]
     },
     "execution_count": 69,
     "metadata": {},
     "output_type": "execute_result"
    }
   ],
   "source": [
    "df.describe(include=\"object\")"
   ]
  },
  {
   "cell_type": "markdown",
   "id": "b0730868-3b0e-4c89-ab62-3baf7215eaaf",
   "metadata": {},
   "source": [
    "### Strip extra spaces and lowercase categorical Strings"
   ]
  },
  {
   "cell_type": "markdown",
   "id": "37e1df80-b23d-46d5-9b9e-edf2567054b6",
   "metadata": {},
   "source": [
    "To ensure consistency and avoid duplicate categories, we strip leading/trailing spaces and convert all strings to lowercase."
   ]
  },
  {
   "cell_type": "code",
   "execution_count": 73,
   "id": "d7fd8626-beaf-4d04-8f5a-a84c6892ea07",
   "metadata": {},
   "outputs": [],
   "source": [
    "for col in df.select_dtypes(include='object').columns:\n",
    "    df[col] = df[col].str.strip().str.lower()\n"
   ]
  },
  {
   "cell_type": "code",
   "execution_count": 75,
   "id": "e933abe2-bb5c-4b3b-98e5-9c089f647f02",
   "metadata": {},
   "outputs": [
    {
     "data": {
      "text/html": [
       "<div>\n",
       "<style scoped>\n",
       "    .dataframe tbody tr th:only-of-type {\n",
       "        vertical-align: middle;\n",
       "    }\n",
       "\n",
       "    .dataframe tbody tr th {\n",
       "        vertical-align: top;\n",
       "    }\n",
       "\n",
       "    .dataframe thead th {\n",
       "        text-align: right;\n",
       "    }\n",
       "</style>\n",
       "<table border=\"1\" class=\"dataframe\">\n",
       "  <thead>\n",
       "    <tr style=\"text-align: right;\">\n",
       "      <th></th>\n",
       "      <th>workclass</th>\n",
       "      <th>education</th>\n",
       "      <th>marital_status</th>\n",
       "      <th>occupation</th>\n",
       "      <th>relationship</th>\n",
       "      <th>race</th>\n",
       "      <th>gender</th>\n",
       "      <th>native_country</th>\n",
       "      <th>income_bracket</th>\n",
       "    </tr>\n",
       "  </thead>\n",
       "  <tbody>\n",
       "    <tr>\n",
       "      <th>count</th>\n",
       "      <td>27787</td>\n",
       "      <td>27787</td>\n",
       "      <td>27787</td>\n",
       "      <td>27787</td>\n",
       "      <td>27787</td>\n",
       "      <td>27787</td>\n",
       "      <td>27787</td>\n",
       "      <td>27787</td>\n",
       "      <td>27787</td>\n",
       "    </tr>\n",
       "    <tr>\n",
       "      <th>unique</th>\n",
       "      <td>7</td>\n",
       "      <td>16</td>\n",
       "      <td>7</td>\n",
       "      <td>14</td>\n",
       "      <td>6</td>\n",
       "      <td>5</td>\n",
       "      <td>2</td>\n",
       "      <td>41</td>\n",
       "      <td>2</td>\n",
       "    </tr>\n",
       "    <tr>\n",
       "      <th>top</th>\n",
       "      <td>private</td>\n",
       "      <td>hs-grad</td>\n",
       "      <td>married-civ-spouse</td>\n",
       "      <td>craft-repair</td>\n",
       "      <td>husband</td>\n",
       "      <td>white</td>\n",
       "      <td>male</td>\n",
       "      <td>united-states</td>\n",
       "      <td>&lt;=50k</td>\n",
       "    </tr>\n",
       "    <tr>\n",
       "      <th>freq</th>\n",
       "      <td>20541</td>\n",
       "      <td>9085</td>\n",
       "      <td>13003</td>\n",
       "      <td>3730</td>\n",
       "      <td>11535</td>\n",
       "      <td>23922</td>\n",
       "      <td>18787</td>\n",
       "      <td>25350</td>\n",
       "      <td>20824</td>\n",
       "    </tr>\n",
       "  </tbody>\n",
       "</table>\n",
       "</div>"
      ],
      "text/plain": [
       "       workclass education      marital_status    occupation relationship  \\\n",
       "count      27787     27787               27787         27787        27787   \n",
       "unique         7        16                   7            14            6   \n",
       "top      private   hs-grad  married-civ-spouse  craft-repair      husband   \n",
       "freq       20541      9085               13003          3730        11535   \n",
       "\n",
       "         race gender native_country income_bracket  \n",
       "count   27787  27787          27787          27787  \n",
       "unique      5      2             41              2  \n",
       "top     white   male  united-states          <=50k  \n",
       "freq    23922  18787          25350          20824  "
      ]
     },
     "execution_count": 75,
     "metadata": {},
     "output_type": "execute_result"
    }
   ],
   "source": [
    "df.describe(include=\"object\")"
   ]
  },
  {
   "cell_type": "markdown",
   "id": "832181e1-1eb0-4537-9502-a349f7c59585",
   "metadata": {},
   "source": [
    "After preprocessing we can now proceed to our first hypothesis"
   ]
  },
  {
   "cell_type": "markdown",
   "id": "a2e7712a-6f9c-46e4-a975-22e701b6db92",
   "metadata": {},
   "source": [
    "## Hypothesis: The Overwork Premium"
   ]
  },
  {
   "cell_type": "markdown",
   "id": "85208312-874d-4fe8-b7fc-6de0777c284f",
   "metadata": {},
   "source": [
    " \"Individuals working more than 40 hours per week are more likely to earn >50K.\" "
   ]
  },
  {
   "cell_type": "markdown",
   "id": "f5f6614a-cac1-4f92-8e76-0b786d442bbf",
   "metadata": {},
   "source": [
    "We start by creating a new dataframe to isolate the logic for the hypothesis:"
   ]
  },
  {
   "cell_type": "code",
   "execution_count": 76,
   "id": "d26d4e10-a738-45b5-b4fe-2dff826c3a43",
   "metadata": {},
   "outputs": [],
   "source": [
    "df_h1 = df.copy()"
   ]
  },
  {
   "cell_type": "markdown",
   "id": "67d5c328-6f11-4e42-b42d-ec79420ce9fc",
   "metadata": {},
   "source": [
    "Then we create a new categorical varIable for working hours, that labels each person as either `standard` or `long` based on their `hours_per_week`. This makes it easier to group and visualize."
   ]
  },
  {
   "cell_type": "code",
   "execution_count": 77,
   "id": "b03f74b9-fc20-4a92-ba50-3cb1971944bd",
   "metadata": {},
   "outputs": [],
   "source": [
    "df_h1['work_hours_category'] = df_h1['hours_per_week'].apply(\n",
    "    lambda x: 'long' if x > 40 else 'standard'\n",
    ")"
   ]
  },
  {
   "cell_type": "code",
   "execution_count": 79,
   "id": "9ed1333c-c6e4-48ab-861a-be7d1d6f2e65",
   "metadata": {},
   "outputs": [
    {
     "data": {
      "text/html": [
       "<div>\n",
       "<style scoped>\n",
       "    .dataframe tbody tr th:only-of-type {\n",
       "        vertical-align: middle;\n",
       "    }\n",
       "\n",
       "    .dataframe tbody tr th {\n",
       "        vertical-align: top;\n",
       "    }\n",
       "\n",
       "    .dataframe thead th {\n",
       "        text-align: right;\n",
       "    }\n",
       "</style>\n",
       "<table border=\"1\" class=\"dataframe\">\n",
       "  <thead>\n",
       "    <tr style=\"text-align: right;\">\n",
       "      <th></th>\n",
       "      <th>age</th>\n",
       "      <th>workclass</th>\n",
       "      <th>education</th>\n",
       "      <th>marital_status</th>\n",
       "      <th>occupation</th>\n",
       "      <th>relationship</th>\n",
       "      <th>race</th>\n",
       "      <th>gender</th>\n",
       "      <th>capital_gain</th>\n",
       "      <th>capital_loss</th>\n",
       "      <th>hours_per_week</th>\n",
       "      <th>native_country</th>\n",
       "      <th>income_bracket</th>\n",
       "      <th>capital_gain_log</th>\n",
       "      <th>work_hours_category</th>\n",
       "    </tr>\n",
       "  </thead>\n",
       "  <tbody>\n",
       "    <tr>\n",
       "      <th>0</th>\n",
       "      <td>39</td>\n",
       "      <td>state-gov</td>\n",
       "      <td>bachelors</td>\n",
       "      <td>never-married</td>\n",
       "      <td>adm-clerical</td>\n",
       "      <td>not-in-family</td>\n",
       "      <td>white</td>\n",
       "      <td>male</td>\n",
       "      <td>2174</td>\n",
       "      <td>0</td>\n",
       "      <td>40</td>\n",
       "      <td>united-states</td>\n",
       "      <td>&lt;=50k</td>\n",
       "      <td>7.684784</td>\n",
       "      <td>standard</td>\n",
       "    </tr>\n",
       "    <tr>\n",
       "      <th>1</th>\n",
       "      <td>50</td>\n",
       "      <td>self-emp-not-inc</td>\n",
       "      <td>bachelors</td>\n",
       "      <td>married-civ-spouse</td>\n",
       "      <td>exec-managerial</td>\n",
       "      <td>husband</td>\n",
       "      <td>white</td>\n",
       "      <td>male</td>\n",
       "      <td>0</td>\n",
       "      <td>0</td>\n",
       "      <td>13</td>\n",
       "      <td>united-states</td>\n",
       "      <td>&lt;=50k</td>\n",
       "      <td>0.000000</td>\n",
       "      <td>standard</td>\n",
       "    </tr>\n",
       "    <tr>\n",
       "      <th>2</th>\n",
       "      <td>38</td>\n",
       "      <td>private</td>\n",
       "      <td>hs-grad</td>\n",
       "      <td>divorced</td>\n",
       "      <td>handlers-cleaners</td>\n",
       "      <td>not-in-family</td>\n",
       "      <td>white</td>\n",
       "      <td>male</td>\n",
       "      <td>0</td>\n",
       "      <td>0</td>\n",
       "      <td>40</td>\n",
       "      <td>united-states</td>\n",
       "      <td>&lt;=50k</td>\n",
       "      <td>0.000000</td>\n",
       "      <td>standard</td>\n",
       "    </tr>\n",
       "    <tr>\n",
       "      <th>3</th>\n",
       "      <td>53</td>\n",
       "      <td>private</td>\n",
       "      <td>11th</td>\n",
       "      <td>married-civ-spouse</td>\n",
       "      <td>handlers-cleaners</td>\n",
       "      <td>husband</td>\n",
       "      <td>black</td>\n",
       "      <td>male</td>\n",
       "      <td>0</td>\n",
       "      <td>0</td>\n",
       "      <td>40</td>\n",
       "      <td>united-states</td>\n",
       "      <td>&lt;=50k</td>\n",
       "      <td>0.000000</td>\n",
       "      <td>standard</td>\n",
       "    </tr>\n",
       "    <tr>\n",
       "      <th>4</th>\n",
       "      <td>28</td>\n",
       "      <td>private</td>\n",
       "      <td>bachelors</td>\n",
       "      <td>married-civ-spouse</td>\n",
       "      <td>prof-specialty</td>\n",
       "      <td>wife</td>\n",
       "      <td>black</td>\n",
       "      <td>female</td>\n",
       "      <td>0</td>\n",
       "      <td>0</td>\n",
       "      <td>40</td>\n",
       "      <td>cuba</td>\n",
       "      <td>&lt;=50k</td>\n",
       "      <td>0.000000</td>\n",
       "      <td>standard</td>\n",
       "    </tr>\n",
       "  </tbody>\n",
       "</table>\n",
       "</div>"
      ],
      "text/plain": [
       "   age         workclass  education      marital_status         occupation  \\\n",
       "0   39         state-gov  bachelors       never-married       adm-clerical   \n",
       "1   50  self-emp-not-inc  bachelors  married-civ-spouse    exec-managerial   \n",
       "2   38           private    hs-grad            divorced  handlers-cleaners   \n",
       "3   53           private       11th  married-civ-spouse  handlers-cleaners   \n",
       "4   28           private  bachelors  married-civ-spouse     prof-specialty   \n",
       "\n",
       "    relationship   race  gender  capital_gain  capital_loss  hours_per_week  \\\n",
       "0  not-in-family  white    male          2174             0              40   \n",
       "1        husband  white    male             0             0              13   \n",
       "2  not-in-family  white    male             0             0              40   \n",
       "3        husband  black    male             0             0              40   \n",
       "4           wife  black  female             0             0              40   \n",
       "\n",
       "  native_country income_bracket  capital_gain_log work_hours_category  \n",
       "0  united-states          <=50k          7.684784            standard  \n",
       "1  united-states          <=50k          0.000000            standard  \n",
       "2  united-states          <=50k          0.000000            standard  \n",
       "3  united-states          <=50k          0.000000            standard  \n",
       "4           cuba          <=50k          0.000000            standard  "
      ]
     },
     "execution_count": 79,
     "metadata": {},
     "output_type": "execute_result"
    }
   ],
   "source": [
    "df_h1.head()"
   ]
  },
  {
   "cell_type": "markdown",
   "id": "fc9c7624-67e3-4042-8334-b5c7b5293be9",
   "metadata": {},
   "source": [
    "To see how icome brackets are distributed withing each work hours group. We use `.groupby()` alng with `.value.counts(normalize=True)` (converts the counts into percentages). This gives us proportion of people earning >50K and <=50K in each category, rather than just the raw counts.<sup>1</sup>"
   ]
  },
  {
   "cell_type": "code",
   "execution_count": 80,
   "id": "c631b101-ee36-4d64-b9d4-035895124a73",
   "metadata": {},
   "outputs": [
    {
     "data": {
      "text/html": [
       "<div>\n",
       "<style scoped>\n",
       "    .dataframe tbody tr th:only-of-type {\n",
       "        vertical-align: middle;\n",
       "    }\n",
       "\n",
       "    .dataframe tbody tr th {\n",
       "        vertical-align: top;\n",
       "    }\n",
       "\n",
       "    .dataframe thead th {\n",
       "        text-align: right;\n",
       "    }\n",
       "</style>\n",
       "<table border=\"1\" class=\"dataframe\">\n",
       "  <thead>\n",
       "    <tr style=\"text-align: right;\">\n",
       "      <th>income_bracket</th>\n",
       "      <th>&lt;=50k</th>\n",
       "      <th>&gt;50k</th>\n",
       "    </tr>\n",
       "    <tr>\n",
       "      <th>work_hours_category</th>\n",
       "      <th></th>\n",
       "      <th></th>\n",
       "    </tr>\n",
       "  </thead>\n",
       "  <tbody>\n",
       "    <tr>\n",
       "      <th>long</th>\n",
       "      <td>0.591006</td>\n",
       "      <td>0.408994</td>\n",
       "    </tr>\n",
       "    <tr>\n",
       "      <th>standard</th>\n",
       "      <td>0.818897</td>\n",
       "      <td>0.181103</td>\n",
       "    </tr>\n",
       "  </tbody>\n",
       "</table>\n",
       "</div>"
      ],
      "text/plain": [
       "income_bracket          <=50k      >50k\n",
       "work_hours_category                    \n",
       "long                 0.591006  0.408994\n",
       "standard             0.818897  0.181103"
      ]
     },
     "execution_count": 80,
     "metadata": {},
     "output_type": "execute_result"
    }
   ],
   "source": [
    "df_h1.groupby('work_hours_category')['income_bracket'].value_counts(normalize=True).unstack()\n"
   ]
  },
  {
   "cell_type": "markdown",
   "id": "c43d523f-e2a1-468a-8da7-9fb40ced82aa",
   "metadata": {},
   "source": [
    "Now we can visualize the result using searborn `.countplot()`"
   ]
  },
  {
   "cell_type": "code",
   "execution_count": 120,
   "id": "061c19f1-6c3e-4c84-bd6b-bc810d0a3acd",
   "metadata": {},
   "outputs": [
    {
     "data": {
      "image/png": "[encoded data removed]",
      "text/plain": [
       "<Figure size 640x480 with 1 Axes>"
      ]
     },
     "metadata": {},
     "output_type": "display_data"
    }
   ],
   "source": [
    "sns.countplot(data=df_h1, x='work_hours_category', hue='income_bracket')\n",
    "plt.title('Income Distribution by Work Hour Category')\n",
    "plt.xlabel('Work Hour Category')\n",
    "plt.ylabel('People')\n",
    "plt.show()"
   ]
  },
  {
   "cell_type": "markdown",
   "id": "44ee6b3a-4558-4544-a6ff-e4ab1c67093e",
   "metadata": {},
   "source": [
    "The analysis shows that individuals who work more than 40 hours per week are more likely to earn over $50K compared to those working standard hours. This supports the hypothesis that working longer hours is associated with a higher income.\n",
    "\n",
    "However, the majority of long hour workers still earn ≤50K, which suggests that longer hours alone are not enough to ensure higher income. Other factors — such as education, job type, or capital gain — likely play an important role as well.\n",
    "\n",
    "To explore this further, the second hypothesis focuses on education level. Specifically, it examines whether individuals with higher education are more likely to earn over 50K."
   ]
  },
  {
   "cell_type": "markdown",
   "id": "2e23e0b6-0551-4a32-8203-5eab0160cf6f",
   "metadata": {},
   "source": [
    "## Hypothesis 2: The Degree Divide"
   ]
  },
  {
   "cell_type": "markdown",
   "id": "0ddcba53-c95f-4e50-a5eb-f3b879b53562",
   "metadata": {},
   "source": [
    "\"Only individuals with a bachelor’s degree or higher show a meaningful shift toward earning >50K, while those with “some college” or vocational degrees remain in the ≤50K majority.\""
   ]
  },
  {
   "cell_type": "markdown",
   "id": "552208a1-43de-4643-8759-237eed51ab90",
   "metadata": {},
   "source": [
    "Like the hypothesis 1, we start by creating a new dataframe to isolate the logic for the hypothesis"
   ]
  },
  {
   "cell_type": "code",
   "execution_count": 84,
   "id": "29919df5-6050-42fd-8a9e-807472be97ab",
   "metadata": {},
   "outputs": [],
   "source": [
    "df_h2 = df.copy()"
   ]
  },
  {
   "cell_type": "markdown",
   "id": "655144f6-df3f-41b3-ab33-881243e23653",
   "metadata": {},
   "source": [
    "We then divide education levels into two categories, `higher` (`bachelors`, `masters`, `doctorate`, `prof-school`) and `lower` (the rest). This allows us to compare whether individuals with higher education levels are more like to earn >50K thna those with lower education levels.\n",
    "\n",
    "For that we make a new column `education_group`:"
   ]
  },
  {
   "cell_type": "code",
   "execution_count": 86,
   "id": "aa7075ba-53bc-44c4-a08a-a3b03e43ac2d",
   "metadata": {},
   "outputs": [],
   "source": [
    "higher_edu = ['bachelors', 'masters', 'doctorate', 'prof-school']\n",
    "\n",
    "# Create a new column to label education level\n",
    "df_h2['education_group'] = df_h2['education'].apply(\n",
    "    lambda x: 'higher' if x in higher_edu else 'lower'\n",
    ")\n"
   ]
  },
  {
   "cell_type": "markdown",
   "id": "eae84a81-12ad-4472-87eb-02cfa22fab28",
   "metadata": {},
   "source": [
    "Now, the new column is added as you see here:"
   ]
  },
  {
   "cell_type": "code",
   "execution_count": 88,
   "id": "8cb1d40e-947f-4e8c-a37e-61e331286055",
   "metadata": {},
   "outputs": [
    {
     "data": {
      "text/html": [
       "<div>\n",
       "<style scoped>\n",
       "    .dataframe tbody tr th:only-of-type {\n",
       "        vertical-align: middle;\n",
       "    }\n",
       "\n",
       "    .dataframe tbody tr th {\n",
       "        vertical-align: top;\n",
       "    }\n",
       "\n",
       "    .dataframe thead th {\n",
       "        text-align: right;\n",
       "    }\n",
       "</style>\n",
       "<table border=\"1\" class=\"dataframe\">\n",
       "  <thead>\n",
       "    <tr style=\"text-align: right;\">\n",
       "      <th></th>\n",
       "      <th>age</th>\n",
       "      <th>workclass</th>\n",
       "      <th>education</th>\n",
       "      <th>marital_status</th>\n",
       "      <th>occupation</th>\n",
       "      <th>relationship</th>\n",
       "      <th>race</th>\n",
       "      <th>gender</th>\n",
       "      <th>capital_gain</th>\n",
       "      <th>capital_loss</th>\n",
       "      <th>hours_per_week</th>\n",
       "      <th>native_country</th>\n",
       "      <th>income_bracket</th>\n",
       "      <th>capital_gain_log</th>\n",
       "      <th>education_group</th>\n",
       "    </tr>\n",
       "  </thead>\n",
       "  <tbody>\n",
       "    <tr>\n",
       "      <th>0</th>\n",
       "      <td>39</td>\n",
       "      <td>state-gov</td>\n",
       "      <td>bachelors</td>\n",
       "      <td>never-married</td>\n",
       "      <td>adm-clerical</td>\n",
       "      <td>not-in-family</td>\n",
       "      <td>white</td>\n",
       "      <td>male</td>\n",
       "      <td>2174</td>\n",
       "      <td>0</td>\n",
       "      <td>40</td>\n",
       "      <td>united-states</td>\n",
       "      <td>&lt;=50k</td>\n",
       "      <td>7.684784</td>\n",
       "      <td>higher</td>\n",
       "    </tr>\n",
       "    <tr>\n",
       "      <th>1</th>\n",
       "      <td>50</td>\n",
       "      <td>self-emp-not-inc</td>\n",
       "      <td>bachelors</td>\n",
       "      <td>married-civ-spouse</td>\n",
       "      <td>exec-managerial</td>\n",
       "      <td>husband</td>\n",
       "      <td>white</td>\n",
       "      <td>male</td>\n",
       "      <td>0</td>\n",
       "      <td>0</td>\n",
       "      <td>13</td>\n",
       "      <td>united-states</td>\n",
       "      <td>&lt;=50k</td>\n",
       "      <td>0.000000</td>\n",
       "      <td>higher</td>\n",
       "    </tr>\n",
       "    <tr>\n",
       "      <th>2</th>\n",
       "      <td>38</td>\n",
       "      <td>private</td>\n",
       "      <td>hs-grad</td>\n",
       "      <td>divorced</td>\n",
       "      <td>handlers-cleaners</td>\n",
       "      <td>not-in-family</td>\n",
       "      <td>white</td>\n",
       "      <td>male</td>\n",
       "      <td>0</td>\n",
       "      <td>0</td>\n",
       "      <td>40</td>\n",
       "      <td>united-states</td>\n",
       "      <td>&lt;=50k</td>\n",
       "      <td>0.000000</td>\n",
       "      <td>lower</td>\n",
       "    </tr>\n",
       "    <tr>\n",
       "      <th>3</th>\n",
       "      <td>53</td>\n",
       "      <td>private</td>\n",
       "      <td>11th</td>\n",
       "      <td>married-civ-spouse</td>\n",
       "      <td>handlers-cleaners</td>\n",
       "      <td>husband</td>\n",
       "      <td>black</td>\n",
       "      <td>male</td>\n",
       "      <td>0</td>\n",
       "      <td>0</td>\n",
       "      <td>40</td>\n",
       "      <td>united-states</td>\n",
       "      <td>&lt;=50k</td>\n",
       "      <td>0.000000</td>\n",
       "      <td>lower</td>\n",
       "    </tr>\n",
       "    <tr>\n",
       "      <th>4</th>\n",
       "      <td>28</td>\n",
       "      <td>private</td>\n",
       "      <td>bachelors</td>\n",
       "      <td>married-civ-spouse</td>\n",
       "      <td>prof-specialty</td>\n",
       "      <td>wife</td>\n",
       "      <td>black</td>\n",
       "      <td>female</td>\n",
       "      <td>0</td>\n",
       "      <td>0</td>\n",
       "      <td>40</td>\n",
       "      <td>cuba</td>\n",
       "      <td>&lt;=50k</td>\n",
       "      <td>0.000000</td>\n",
       "      <td>higher</td>\n",
       "    </tr>\n",
       "  </tbody>\n",
       "</table>\n",
       "</div>"
      ],
      "text/plain": [
       "   age         workclass  education      marital_status         occupation  \\\n",
       "0   39         state-gov  bachelors       never-married       adm-clerical   \n",
       "1   50  self-emp-not-inc  bachelors  married-civ-spouse    exec-managerial   \n",
       "2   38           private    hs-grad            divorced  handlers-cleaners   \n",
       "3   53           private       11th  married-civ-spouse  handlers-cleaners   \n",
       "4   28           private  bachelors  married-civ-spouse     prof-specialty   \n",
       "\n",
       "    relationship   race  gender  capital_gain  capital_loss  hours_per_week  \\\n",
       "0  not-in-family  white    male          2174             0              40   \n",
       "1        husband  white    male             0             0              13   \n",
       "2  not-in-family  white    male             0             0              40   \n",
       "3        husband  black    male             0             0              40   \n",
       "4           wife  black  female             0             0              40   \n",
       "\n",
       "  native_country income_bracket  capital_gain_log education_group  \n",
       "0  united-states          <=50k          7.684784          higher  \n",
       "1  united-states          <=50k          0.000000          higher  \n",
       "2  united-states          <=50k          0.000000           lower  \n",
       "3  united-states          <=50k          0.000000           lower  \n",
       "4           cuba          <=50k          0.000000          higher  "
      ]
     },
     "execution_count": 88,
     "metadata": {},
     "output_type": "execute_result"
    }
   ],
   "source": [
    "df_h2.head()"
   ]
  },
  {
   "cell_type": "markdown",
   "id": "db4ce8f8-49d7-42c5-addc-6aea268a2f6e",
   "metadata": {},
   "source": [
    "Like hypothesis 1, To see how income brackets are distributed withing each work hours group. We use `.groupby()` alng with `.value.counts(normalize=True)` (converts the counts into percentages). This gives us proportion of people earning >50K and <=50K in each category, rather than just the raw counts.<sup>1<sup>"
   ]
  },
  {
   "cell_type": "code",
   "execution_count": 90,
   "id": "f9f4d677-6f7b-418d-97b1-d910625c9717",
   "metadata": {},
   "outputs": [
    {
     "data": {
      "text/html": [
       "<div>\n",
       "<style scoped>\n",
       "    .dataframe tbody tr th:only-of-type {\n",
       "        vertical-align: middle;\n",
       "    }\n",
       "\n",
       "    .dataframe tbody tr th {\n",
       "        vertical-align: top;\n",
       "    }\n",
       "\n",
       "    .dataframe thead th {\n",
       "        text-align: right;\n",
       "    }\n",
       "</style>\n",
       "<table border=\"1\" class=\"dataframe\">\n",
       "  <thead>\n",
       "    <tr style=\"text-align: right;\">\n",
       "      <th>income_bracket</th>\n",
       "      <th>&lt;=50k</th>\n",
       "      <th>&gt;50k</th>\n",
       "    </tr>\n",
       "    <tr>\n",
       "      <th>education_group</th>\n",
       "      <th></th>\n",
       "      <th></th>\n",
       "    </tr>\n",
       "  </thead>\n",
       "  <tbody>\n",
       "    <tr>\n",
       "      <th>higher</th>\n",
       "      <td>0.507527</td>\n",
       "      <td>0.492473</td>\n",
       "    </tr>\n",
       "    <tr>\n",
       "      <th>lower</th>\n",
       "      <td>0.830482</td>\n",
       "      <td>0.169518</td>\n",
       "    </tr>\n",
       "  </tbody>\n",
       "</table>\n",
       "</div>"
      ],
      "text/plain": [
       "income_bracket      <=50k      >50k\n",
       "education_group                    \n",
       "higher           0.507527  0.492473\n",
       "lower            0.830482  0.169518"
      ]
     },
     "execution_count": 90,
     "metadata": {},
     "output_type": "execute_result"
    }
   ],
   "source": [
    "df_h2.groupby('education_group')['income_bracket'].value_counts(normalize=True).unstack()"
   ]
  },
  {
   "cell_type": "markdown",
   "id": "c8557794-454b-478d-910a-f09ef765d314",
   "metadata": {},
   "source": [
    "Now, lets visualize it using searborn `.countplot()`"
   ]
  },
  {
   "cell_type": "code",
   "execution_count": 119,
   "id": "6b1e8e5b-4823-4cf9-b09b-7c69c82724e3",
   "metadata": {},
   "outputs": [
    {
     "data": {
      "image/png": "[encoded data removed]",
      "text/plain": [
       "<Figure size 600x400 with 1 Axes>"
      ]
     },
     "metadata": {},
     "output_type": "display_data"
    }
   ],
   "source": [
    "plt.figure(figsize=(6, 4))\n",
    "sns.countplot(data=df_h2, x='education_group', hue='income_bracket')\n",
    "plt.title('Income Bracket by Education Group')\n",
    "plt.xlabel('Education Group')\n",
    "plt.ylabel('People')\n",
    "plt.show()"
   ]
  },
  {
   "cell_type": "markdown",
   "id": "72438079-da2d-4511-b336-63fdbcd5b101",
   "metadata": {},
   "source": [
    "The analysis confirms that individuals with a bachelor’s degree or higher are significantly more likely to earn over $50K compared to those with lower levels of education. This supports the hypothesis that higher education acts as a strong income threshold, with a noticeable shift in income distribution at the bachelor's level.\n",
    "\n",
    "While education alone doesn't guarantee high income, it clearly improves the likelihood, suggesting that educational attainment plays a major role in income mobility.\n",
    "\n",
    "But just like with working hours, education alone doesn't guarantee a high income. This raises the question: what if we look at both education and work hours together?\n",
    "\n",
    "To test this, Hypothesis 3 examines whether people who both have higher education and work more than 40 hours per week are significantly more likely to earn over $50K. The goal is to see if combining these two factors increases the chances more than either one alone."
   ]
  },
  {
   "cell_type": "markdown",
   "id": "2c740ec1-c767-4a31-968f-6fe736088cf5",
   "metadata": {},
   "source": [
    "## Hypothesis 3 High Education + Long Hours = High Income?"
   ]
  },
  {
   "cell_type": "markdown",
   "id": "e43c5e8c-695b-4a2f-a129-64c597ac7af8",
   "metadata": {},
   "source": [
    "So far, the results have shown that both higher education and longer working hours are individually linked to a higher likelihood of earning over $50K. This leads to the third hypothesis:\n",
    "\n",
    "\"People with higher education who also work more than 40 hours per week are more likely to earn over $50K compared to those who only meet one or neither of these conditions.\""
   ]
  },
  {
   "cell_type": "markdown",
   "id": "6465c25a-d303-4219-8f73-066cf5545532",
   "metadata": {},
   "source": [
    "Like the hypothesis 1 and 2, we start by creating a new dataframe to isolate the logic for the hypothesis:"
   ]
  },
  {
   "cell_type": "code",
   "execution_count": 110,
   "id": "b83afc09-755c-42d1-8068-acb0bc112ba0",
   "metadata": {},
   "outputs": [],
   "source": [
    "df_h3 = df.copy()"
   ]
  },
  {
   "cell_type": "markdown",
   "id": "76675ff8-6dba-4772-ab24-7488ee0ff351",
   "metadata": {},
   "source": [
    "Then we define the new columns:"
   ]
  },
  {
   "cell_type": "code",
   "execution_count": 111,
   "id": "07bf1044-ed04-4cad-841d-b1466707db7a",
   "metadata": {},
   "outputs": [],
   "source": [
    "higher_edu_levels = ['bachelors', 'masters', 'doctorate', 'prof-school']\n",
    "\n",
    "df_h3['high_education'] = df_h3['education'].isin(higher_edu_levels)\n",
    "df_h3['long_hours'] = df_h3['hours_per_week'] > 40\n",
    "df_h3['high_edu_and_long_hours'] = df_h3['high_education'] & df_h3['long_hours']\n",
    "\n"
   ]
  },
  {
   "cell_type": "code",
   "execution_count": 113,
   "id": "940ebd4c-7fa7-4070-82fd-e3f4b2b87ecd",
   "metadata": {},
   "outputs": [
    {
     "data": {
      "text/plain": [
       "income_bracket\n",
       ">50k     1932\n",
       "<=50k    1149\n",
       "Name: count, dtype: int64"
      ]
     },
     "execution_count": 113,
     "metadata": {},
     "output_type": "execute_result"
    }
   ],
   "source": [
    "df_h3[df_h3['high_edu_and_long_hours']]['income_bracket'].value_counts()\n"
   ]
  },
  {
   "cell_type": "code",
   "execution_count": 118,
   "id": "d4d3a560-aaab-46cc-8552-cdb8ce40a2dc",
   "metadata": {},
   "outputs": [
    {
     "data": {
      "image/png": "[encoded data removed]",
      "text/plain": [
       "<Figure size 600x400 with 1 Axes>"
      ]
     },
     "metadata": {},
     "output_type": "display_data"
    }
   ],
   "source": [
    "plt.figure(figsize=(6, 4))\n",
    "sns.countplot(data=df_h3[df_h3['high_edu_and_long_hours']], x='income_bracket')\n",
    "\n",
    "plt.title('Income Distribution: High Education & Long Hours')\n",
    "plt.xlabel('Income Bracket')\n",
    "plt.ylabel('Number of People with high education')\n",
    "plt.grid(axis='y')\n",
    "plt.tight_layout()\n",
    "plt.show()"
   ]
  },
  {
   "cell_type": "markdown",
   "id": "3651dc81-00f2-4dd7-8878-2f9db9366111",
   "metadata": {},
   "source": [
    "The analysis does not support the hypothesis. Even among individuals with both high education and long working hours, the majority still fall into the <=50K income bracket. This finding contradicts the initial assumption that a combination of high education and long working hours would be strongly associated with higher income levels."
   ]
  },
  {
   "cell_type": "markdown",
   "id": "194973dd-afc0-4760-8263-92a038897e9f",
   "metadata": {},
   "source": [
    "## Conclusion\n",
    "\n",
    "In this report, I used data from the 1994 U.S. Census to explore how education, working hours, job type, and gender relate to income. I wanted to find out what makes someone more likely to earn over $50,000 a year. The results showed that people with higher education and those who work more hours are more likely to have higher incomes. These patterns reflect social and economic trends in the U.S. during the 1990s.\n",
    "\n",
    "Although the data only covers one year and doesn’t include all factors that affect income, it still gives useful insight into income differences. "
   ]
  },
  {
   "cell_type": "markdown",
   "id": "0330ad7b-ba7c-4abe-80c9-0f18fdb23ff9",
   "metadata": {},
   "source": [
    "# References"
   ]
  },
  {
   "cell_type": "markdown",
   "id": "49b19649-6942-496b-b596-0de514141e50",
   "metadata": {},
   "source": [
    "<sup>1</sup> Chatgpt 4o"
   ]
  }
 ],
 "metadata": {
  "kernelspec": {
   "display_name": "Python [conda env:data-intelligence-exam]",
   "language": "python",
   "name": "conda-env-data-intelligence-exam-py"
  },
  "language_info": {
   "codemirror_mode": {
    "name": "ipython",
    "version": 3
   },
   "file_extension": ".py",
   "mimetype": "text/x-python",
   "name": "python",
   "nbconvert_exporter": "python",
   "pygments_lexer": "ipython3",
   "version": "3.10.17"
  }
 },
 "nbformat": 4,
 "nbformat_minor": 5
}
