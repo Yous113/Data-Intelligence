

















import pandas as pd





df = pd.read_csv("banking.csv")











df.head()





df.shape


df.info()





# Summary statistics for numerical columns
df.describe()


# Frequency count of values in 'days-since-last-contact'
df['days-since-last-contact'].value_counts().sort_index()


df['previous'].value_counts().sort_index()





# Summary statistics for categorical columns
df.describe(include="object")








# Check missing values
df.isnull().sum()





df['job'] = df['job'].fillna('unknown')
df.isnull().sum()


df['job'].value_counts(dropna=False)


df['job'] = df['job'].replace('admin.', 'admin')


df['job'].value_counts(dropna=False)





df['education'].value_counts(dropna=False)



df['education'] = df['education'].fillna('unknown')
df.isnull().sum()





df['marital-status'].value_counts(dropna=False)


df['marital-status'] = df['marital-status'].str.strip().str.lower()



df['marital-status'].value_counts(dropna=False)


df['marital-status'] = df['marital-status'].fillna('unknown')


df['marital-status'].value_counts(dropna=False)


df.isnull().sum()





df.describe(include="object")


text_cols = [
    'education', 'default', 'housing', 'loan',
    'contact', 'month', 'previous-campaign-result', 'marketing-result'
]

for col in text_cols:
    df[col] = df[col].str.strip().str.lower()


for col in text_cols:
    print(df[col].value_counts(dropna=False))



df['month'].value_counts()



month_order = ['jan', 'feb', 'mar', 'apr', 'may', 'jun', 
               'jul', 'aug', 'sep', 'oct', 'nov', 'dec']
df['month'] = pd.Categorical(df['month'], categories=month_order, ordered=True)
df['month'].value_counts()





df['previous'].value_counts(dropna=False)


df['previous'] = df['previous'].fillna(0.0)
df['previous'] = df['previous'].astype(int)


df['previous'].value_counts(dropna=False)


df.isnull().sum()





sns.countplot(x='month', hue='marketing-result', data=df,
              order=['jan', 'feb', 'mar', 'apr', 'may', 'jun',
                     'jul', 'aug', 'sep', 'oct', 'nov', 'dec'])

plt.title("Marketing Result by Month")
plt.xlabel("Month")
plt.ylabel("Count")
plt.legend(title="Marketing Result")
plt.xticks(rotation=45)
plt.tight_layout()
plt.show()








job_success = df.groupby('job')['marketing-result'].value_counts(normalize=True).unstack().fillna(0)

job_success.plot(kind='bar', stacked=True, figsize=(10, 6))
plt.title("Marketing Result by Job")
plt.ylabel("Proportion")
plt.xlabel("Job")
plt.xticks(rotation=45)
plt.legend(title='Marketing Result')
plt.tight_layout()
plt.show()



edu_success = df.groupby('education')['marketing-result'].value_counts(normalize=True).unstack().fillna(0)

edu_success.plot(kind='bar', stacked=True, figsize=(8, 5), colormap="viridis")
plt.title("Marketing Result by Education")
plt.ylabel("Proportion")
plt.xlabel("Education")
plt.xticks(rotation=0)
plt.legend(title='Marketing Result')
plt.tight_layout()
plt.show()






sns.boxplot(x='marketing-result', y='duration', data=df)
plt.title("Call Duration by Marketing Result")
plt.xlabel("Marketing Result")
plt.ylabel("Call Duration (seconds)")
plt.show()






import seaborn as sns
import matplotlib.pyplot as plt





tmp_df = pd.DataFrame(df, columns=["age"])
tmp_df.boxplot(vert=False)
plt.title('Age Distribution')
plt.show()








df["balance"].describe()





plt.hist(df["balance"], bins=20)
plt.xlabel("Balance")
plt.ylabel("Count")
plt.title("Balance Distribution")
plt.show()





[...]





df["job"].value_counts()








def month_to_num(month):
    switcher = {
        "jan": 1,
        "feb": 2,
        "mar": 3,
        "apr": 4,
        "may": 5,
        "jun": 6,
        "jul": 7,
        "aug": 8,
        "sep": 9,
        "oct": 10,
        "nov": 11,
        "dec": 12
    }
    return switcher.get(month, 0)


df["month"].apply(month_to_num).hist(bins=12)
plt.xlabel("Month")
plt.ylabel("Count")
plt.title("Month Distribution for latest contact")
plt.show()


























df["marital-status"] = df["marital-status"].str.lower()


df["marital-status"].value_counts()


#Check which columns has null values:
df.isna().sum()[df.isna().sum() > 0]





df["marital-status"] = df["marital-status"].fillna("unknown")
df["marital-status"].unique()








[...]











import seaborn as sns #For heatmap


sns.heatmap(df.corr(numeric_only=True))
plt.show()








[...]














# Here the student imports packages needed for inferential statistics





# Here the student splits the dataset into a part for analysis and a part for validation


# Here the student uses a random forest classifier to examine specific variables,
# evaluates the modelling on the data using classification metrics
# and examines the explanatory importance of each input variable.








random_forest_classifier(df_prev, ["previous-campaign-result"], "marketing-result")


























# Create a new column for call duration buckets
df['duration-group'] = pd.cut(df['duration'], bins=[-1, 100, 300, 600, df['duration'].max()],
                              labels=['very short', 'short', 'medium', 'long'])

# Group by loan status and call duration group
pivot = df.groupby(['loan', 'duration-group'])['marketing-result'].value_counts(normalize=True).unstack().fillna(0)

pivot.plot(kind='bar', stacked=True, figsize=(10, 6), colormap='viridis')
plt.title("Marketing Result by Loan Status and Call Duration")
plt.xlabel("Loan Status and Duration Group")
plt.ylabel("Proportion")
plt.legend(title='Marketing Result')
plt.tight_layout()
plt.show()




