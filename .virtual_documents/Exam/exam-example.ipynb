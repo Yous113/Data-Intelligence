

















import pandas as pd





df = pd.read_csv("banking.csv")











df





df.info()











import matplotlib.pyplot as plt





tmp_df = pd.DataFrame(df, columns=["age"])
tmp_df.boxplot(vert=False)
plt.title('Age Distribution')
plt.show()








df["balance"].describe()





plt.hist(df["balance"], bins=20)
plt.xlabel("Balance")
plt.ylabel("Count")
plt.title("Balance Distribution")
plt.show()





[...]





df["job"].value_counts()








def month_to_num(month):
    switcher = {
        "jan": 1,
        "feb": 2,
        "mar": 3,
        "apr": 4,
        "may": 5,
        "jun": 6,
        "jul": 7,
        "aug": 8,
        "sep": 9,
        "oct": 10,
        "nov": 11,
        "dec": 12
    }
    return switcher.get(month, 0)


df["month"].apply(month_to_num).hist(bins=12)
plt.xlabel("Month")
plt.ylabel("Count")
plt.title("Month Distribution for latest contact")
plt.show()


























df["marital-status"] = df["marital-status"].str.lower()


df["marital-status"].value_counts()


#Check which columns has null values:
df.isna().sum()[df.isna().sum() > 0]





df["marital-status"] = df["marital-status"].fillna("unknown")
df["marital-status"].unique()








[...]











import seaborn as sns #For heatmap


sns.heatmap(df.corr(numeric_only=True))
plt.show()








[...]














# Here the student imports packages needed for inferential statistics





# Here the student splits the dataset into a part for analysis and a part for validation


# Here the student uses a random forest classifier to examine specific variables,
# evaluates the modelling on the data using classification metrics
# and examines the explanatory importance of each input variable.








random_forest_classifier(df_prev, ["previous-campaign-result"], "marketing-result")





















