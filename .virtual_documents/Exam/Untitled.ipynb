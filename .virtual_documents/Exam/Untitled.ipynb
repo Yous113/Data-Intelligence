

















import pandas as pd





df = pd.read_csv("census-1994.csv")





df.head()











df.info()








df.describe()








df.describe(include="object")








df['gender'].unique()














import matplotlib.pyplot as plt
import seaborn as sns








plt.figure(figsize=(8, 4))
sns.histplot(data=df, x='age', kde=True, bins=30)
plt.title('Age Distribution')
plt.xlabel('Age')
plt.ylabel('Frequency')
plt.show()











plt.figure(figsize=(8, 4))
sns.histplot(data=df, x='hours_per_week', kde=True, bins=30)
plt.title('Hours Worked per Week Distribution')
plt.xlabel('Hours per Week')
plt.ylabel('Frequency')
plt.show()












plt.figure(figsize=(8, 4))
sns.boxplot(data=df, x='income_bracket', y='hours_per_week')
plt.title('Hours Worked per Week by Income Bracket')
plt.xlabel('Income Bracket')
plt.ylabel('Hours per Week')
plt.show()


















plt.figure(figsize=(12, 5))
sns.countplot(data=df, x='education', order=df['education'].value_counts().index)
plt.title('Distribution of Education Levels')
plt.xlabel('Education Level')
plt.ylabel('Count')
plt.xticks(rotation=45)
plt.show()









plt.figure(figsize=(12, 5))
sns.countplot(data=df, x='education', hue='income_bracket', order=df['education'].value_counts().index)
plt.title('Income Bracket by Education Level')
plt.xlabel('Education Level')
plt.ylabel('Count')
plt.xticks(rotation=45)
plt.legend(title='Income Bracket')
plt.show()







