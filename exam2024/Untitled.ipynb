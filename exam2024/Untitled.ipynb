{
 "cells": [
  {
   "cell_type": "code",
   "execution_count": null,
   "id": "5586bae9-5773-4a50-9be8-abc7b0cd3af5",
   "metadata": {},
   "outputs": [],
   "source": [
    "Data Intelligence Exam\n"
   ]
  },
  {
   "cell_type": "code",
   "execution_count": null,
   "id": "47e59974-a2a3-4219-a40a-972c84b60678",
   "metadata": {},
   "outputs": [],
   "source": [
    "Youssef Wassim Noureddine | yono@itu.dk | Date: 2025--"
   ]
  }
 ],
 "metadata": {
  "kernelspec": {
   "display_name": "Python [conda env:data-intelligence-exam]",
   "language": "python",
   "name": "conda-env-data-intelligence-exam-py"
  },
  "language_info": {
   "codemirror_mode": {
    "name": "ipython",
    "version": 3
   },
   "file_extension": ".py",
   "mimetype": "text/x-python",
   "name": "python",
   "nbconvert_exporter": "python",
   "pygments_lexer": "ipython3",
   "version": "3.10.17"
  }
 },
 "nbformat": 4,
 "nbformat_minor": 5
}
