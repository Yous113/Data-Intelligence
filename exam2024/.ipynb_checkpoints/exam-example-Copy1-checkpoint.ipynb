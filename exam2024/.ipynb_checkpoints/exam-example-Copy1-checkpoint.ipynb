{
 "cells": [
  {
   "cell_type": "markdown",
   "id": "1150dc87",
   "metadata": {},
   "source": [
    "# Data Intelligence Exam"
   ]
  },
  {
   "cell_type": "markdown",
   "id": "e6eb6e00",
   "metadata": {},
   "source": [
    "**Youssef Wassim Noureddine** | yono@itu.dk | Date: 2025-05-26"
   ]
  },
  {
   "cell_type": "markdown",
   "id": "70d13745",
   "metadata": {},
   "source": [
    "## Introduction"
   ]
  },
  {
   "cell_type": "markdown",
   "id": "b790f557",
   "metadata": {},
   "source": [
    "Here the student gives an introduction to the dataset and some social and cultural context.\n",
    "\n",
    "They give an overview of the report the have written and the different steps they will go through."
   ]
  },
  {
   "cell_type": "markdown",
   "id": "ebbdd7a4",
   "metadata": {},
   "source": [
    "## Loading and overview"
   ]
  },
  {
   "cell_type": "markdown",
   "id": "356dd022",
   "metadata": {},
   "source": [
    "Here the student starts explaining what the different steps do and why they use the individual blocks of code."
   ]
  },
  {
   "cell_type": "code",
   "execution_count": 3,
   "id": "d3138e27",
   "metadata": {},
   "outputs": [],
   "source": [
    "import pandas as pd"
   ]
  },
  {
   "cell_type": "markdown",
   "id": "c27f44b1",
   "metadata": {},
   "source": [
    "[...]"
   ]
  },
  {
   "cell_type": "code",
   "execution_count": 4,
   "id": "30f1b470-06a4-4ffc-a9df-939ba8472fae",
   "metadata": {},
   "outputs": [],
   "source": [
    "df = pd.read_csv(\"banking.csv\")"
   ]
  },
  {
   "cell_type": "markdown",
   "id": "9033dd31",
   "metadata": {},
   "source": [
    "This is the description given with the data:"
   ]
  },
  {
   "cell_type": "markdown",
   "id": "f82ada7f",
   "metadata": {},
   "source": [
    "Here the student describes the individual variables in the dataset."
   ]
  },
  {
   "cell_type": "markdown",
   "id": "fca49892",
   "metadata": {},
   "source": [
    "[...]"
   ]
  },
  {
   "cell_type": "code",
   "execution_count": 8,
   "id": "e0941ec9-ddbd-4ff0-9d79-af23f46bb0f2",
   "metadata": {},
   "outputs": [
    {
     "data": {
      "text/html": [
       "<div>\n",
       "<style scoped>\n",
       "    .dataframe tbody tr th:only-of-type {\n",
       "        vertical-align: middle;\n",
       "    }\n",
       "\n",
       "    .dataframe tbody tr th {\n",
       "        vertical-align: top;\n",
       "    }\n",
       "\n",
       "    .dataframe thead th {\n",
       "        text-align: right;\n",
       "    }\n",
       "</style>\n",
       "<table border=\"1\" class=\"dataframe\">\n",
       "  <thead>\n",
       "    <tr style=\"text-align: right;\">\n",
       "      <th></th>\n",
       "      <th>age</th>\n",
       "      <th>job</th>\n",
       "      <th>marital-status</th>\n",
       "      <th>education</th>\n",
       "      <th>default</th>\n",
       "      <th>balance</th>\n",
       "      <th>housing</th>\n",
       "      <th>loan</th>\n",
       "      <th>contact</th>\n",
       "      <th>day</th>\n",
       "      <th>month</th>\n",
       "      <th>duration</th>\n",
       "      <th>campaign</th>\n",
       "      <th>days-since-last-contact</th>\n",
       "      <th>previous</th>\n",
       "      <th>previous-campaign-result</th>\n",
       "      <th>marketing-result</th>\n",
       "    </tr>\n",
       "  </thead>\n",
       "  <tbody>\n",
       "    <tr>\n",
       "      <th>0</th>\n",
       "      <td>58</td>\n",
       "      <td>management</td>\n",
       "      <td>married</td>\n",
       "      <td>tertiary</td>\n",
       "      <td>no</td>\n",
       "      <td>2143</td>\n",
       "      <td>yes</td>\n",
       "      <td>no</td>\n",
       "      <td>unknown</td>\n",
       "      <td>5</td>\n",
       "      <td>may</td>\n",
       "      <td>261</td>\n",
       "      <td>1</td>\n",
       "      <td>-1</td>\n",
       "      <td>NaN</td>\n",
       "      <td>unknown</td>\n",
       "      <td>failure</td>\n",
       "    </tr>\n",
       "    <tr>\n",
       "      <th>1</th>\n",
       "      <td>44</td>\n",
       "      <td>technician</td>\n",
       "      <td>single</td>\n",
       "      <td>secondary</td>\n",
       "      <td>no</td>\n",
       "      <td>29</td>\n",
       "      <td>yes</td>\n",
       "      <td>no</td>\n",
       "      <td>unknown</td>\n",
       "      <td>5</td>\n",
       "      <td>may</td>\n",
       "      <td>151</td>\n",
       "      <td>1</td>\n",
       "      <td>-1</td>\n",
       "      <td>0.0</td>\n",
       "      <td>unknown</td>\n",
       "      <td>failure</td>\n",
       "    </tr>\n",
       "    <tr>\n",
       "      <th>2</th>\n",
       "      <td>33</td>\n",
       "      <td>entrepreneur</td>\n",
       "      <td>married</td>\n",
       "      <td>secondary</td>\n",
       "      <td>no</td>\n",
       "      <td>2</td>\n",
       "      <td>yes</td>\n",
       "      <td>yes</td>\n",
       "      <td>unknown</td>\n",
       "      <td>5</td>\n",
       "      <td>may</td>\n",
       "      <td>76</td>\n",
       "      <td>1</td>\n",
       "      <td>-1</td>\n",
       "      <td>0.0</td>\n",
       "      <td>unknown</td>\n",
       "      <td>failure</td>\n",
       "    </tr>\n",
       "    <tr>\n",
       "      <th>3</th>\n",
       "      <td>47</td>\n",
       "      <td>blue-collar</td>\n",
       "      <td>married</td>\n",
       "      <td>NaN</td>\n",
       "      <td>no</td>\n",
       "      <td>1506</td>\n",
       "      <td>yes</td>\n",
       "      <td>no</td>\n",
       "      <td>unknown</td>\n",
       "      <td>5</td>\n",
       "      <td>may</td>\n",
       "      <td>92</td>\n",
       "      <td>1</td>\n",
       "      <td>-1</td>\n",
       "      <td>0.0</td>\n",
       "      <td>unknown</td>\n",
       "      <td>failure</td>\n",
       "    </tr>\n",
       "    <tr>\n",
       "      <th>4</th>\n",
       "      <td>33</td>\n",
       "      <td>unknown</td>\n",
       "      <td>single</td>\n",
       "      <td>unknown</td>\n",
       "      <td>no</td>\n",
       "      <td>1</td>\n",
       "      <td>no</td>\n",
       "      <td>no</td>\n",
       "      <td>unknown</td>\n",
       "      <td>5</td>\n",
       "      <td>may</td>\n",
       "      <td>198</td>\n",
       "      <td>1</td>\n",
       "      <td>-1</td>\n",
       "      <td>0.0</td>\n",
       "      <td>unknown</td>\n",
       "      <td>failure</td>\n",
       "    </tr>\n",
       "  </tbody>\n",
       "</table>\n",
       "</div>"
      ],
      "text/plain": [
       "   age           job marital-status  education default  balance housing loan  \\\n",
       "0   58    management        married   tertiary      no     2143     yes   no   \n",
       "1   44    technician         single  secondary      no       29     yes   no   \n",
       "2   33  entrepreneur        married  secondary      no        2     yes  yes   \n",
       "3   47   blue-collar        married        NaN      no     1506     yes   no   \n",
       "4   33       unknown         single    unknown      no        1      no   no   \n",
       "\n",
       "   contact  day month  duration  campaign  days-since-last-contact  previous  \\\n",
       "0  unknown    5   may       261         1                       -1       NaN   \n",
       "1  unknown    5   may       151         1                       -1       0.0   \n",
       "2  unknown    5   may        76         1                       -1       0.0   \n",
       "3  unknown    5   may        92         1                       -1       0.0   \n",
       "4  unknown    5   may       198         1                       -1       0.0   \n",
       "\n",
       "  previous-campaign-result marketing-result  \n",
       "0                  unknown          failure  \n",
       "1                  unknown          failure  \n",
       "2                  unknown          failure  \n",
       "3                  unknown          failure  \n",
       "4                  unknown          failure  "
      ]
     },
     "execution_count": 8,
     "metadata": {},
     "output_type": "execute_result"
    }
   ],
   "source": [
    "df.head()"
   ]
  },
  {
   "cell_type": "markdown",
   "id": "a1b3cf03",
   "metadata": {},
   "source": [
    "[...]"
   ]
  },
  {
   "cell_type": "code",
   "execution_count": 10,
   "id": "5c6ed211-6791-4e3c-97fa-5c4ca7a9f261",
   "metadata": {},
   "outputs": [
    {
     "data": {
      "text/plain": [
       "(45211, 17)"
      ]
     },
     "execution_count": 10,
     "metadata": {},
     "output_type": "execute_result"
    }
   ],
   "source": [
    "df.shape"
   ]
  },
  {
   "cell_type": "code",
   "execution_count": 11,
   "id": "d8e2db6e",
   "metadata": {},
   "outputs": [
    {
     "name": "stdout",
     "output_type": "stream",
     "text": [
      "<class 'pandas.core.frame.DataFrame'>\n",
      "RangeIndex: 45211 entries, 0 to 45210\n",
      "Data columns (total 17 columns):\n",
      " #   Column                    Non-Null Count  Dtype  \n",
      "---  ------                    --------------  -----  \n",
      " 0   age                       45211 non-null  int64  \n",
      " 1   job                       43889 non-null  object \n",
      " 2   marital-status            43814 non-null  object \n",
      " 3   education                 43853 non-null  object \n",
      " 4   default                   45211 non-null  object \n",
      " 5   balance                   45211 non-null  int64  \n",
      " 6   housing                   45211 non-null  object \n",
      " 7   loan                      45211 non-null  object \n",
      " 8   contact                   45211 non-null  object \n",
      " 9   day                       45211 non-null  int64  \n",
      " 10  month                     45211 non-null  object \n",
      " 11  duration                  45211 non-null  int64  \n",
      " 12  campaign                  45211 non-null  int64  \n",
      " 13  days-since-last-contact   45211 non-null  int64  \n",
      " 14  previous                  43872 non-null  float64\n",
      " 15  previous-campaign-result  45211 non-null  object \n",
      " 16  marketing-result          45211 non-null  object \n",
      "dtypes: float64(1), int64(6), object(10)\n",
      "memory usage: 5.9+ MB\n"
     ]
    }
   ],
   "source": [
    "df.info()"
   ]
  },
  {
   "cell_type": "markdown",
   "id": "57e479a8",
   "metadata": {},
   "source": [
    "[...]"
   ]
  },
  {
   "cell_type": "code",
   "execution_count": 15,
   "id": "0a0291e8-72f7-46eb-b27d-590f865e7607",
   "metadata": {},
   "outputs": [
    {
     "data": {
      "text/html": [
       "<div>\n",
       "<style scoped>\n",
       "    .dataframe tbody tr th:only-of-type {\n",
       "        vertical-align: middle;\n",
       "    }\n",
       "\n",
       "    .dataframe tbody tr th {\n",
       "        vertical-align: top;\n",
       "    }\n",
       "\n",
       "    .dataframe thead th {\n",
       "        text-align: right;\n",
       "    }\n",
       "</style>\n",
       "<table border=\"1\" class=\"dataframe\">\n",
       "  <thead>\n",
       "    <tr style=\"text-align: right;\">\n",
       "      <th></th>\n",
       "      <th>age</th>\n",
       "      <th>balance</th>\n",
       "      <th>day</th>\n",
       "      <th>duration</th>\n",
       "      <th>campaign</th>\n",
       "      <th>days-since-last-contact</th>\n",
       "      <th>previous</th>\n",
       "    </tr>\n",
       "  </thead>\n",
       "  <tbody>\n",
       "    <tr>\n",
       "      <th>count</th>\n",
       "      <td>45211.000000</td>\n",
       "      <td>45211.000000</td>\n",
       "      <td>45211.000000</td>\n",
       "      <td>45211.000000</td>\n",
       "      <td>45211.000000</td>\n",
       "      <td>45211.000000</td>\n",
       "      <td>43872.000000</td>\n",
       "    </tr>\n",
       "    <tr>\n",
       "      <th>mean</th>\n",
       "      <td>40.936210</td>\n",
       "      <td>1362.272058</td>\n",
       "      <td>15.806419</td>\n",
       "      <td>258.163080</td>\n",
       "      <td>2.763841</td>\n",
       "      <td>40.197828</td>\n",
       "      <td>0.580963</td>\n",
       "    </tr>\n",
       "    <tr>\n",
       "      <th>std</th>\n",
       "      <td>10.618762</td>\n",
       "      <td>3044.765829</td>\n",
       "      <td>8.322476</td>\n",
       "      <td>257.527812</td>\n",
       "      <td>3.098021</td>\n",
       "      <td>100.128746</td>\n",
       "      <td>2.314625</td>\n",
       "    </tr>\n",
       "    <tr>\n",
       "      <th>min</th>\n",
       "      <td>18.000000</td>\n",
       "      <td>-8019.000000</td>\n",
       "      <td>1.000000</td>\n",
       "      <td>0.000000</td>\n",
       "      <td>1.000000</td>\n",
       "      <td>-1.000000</td>\n",
       "      <td>0.000000</td>\n",
       "    </tr>\n",
       "    <tr>\n",
       "      <th>25%</th>\n",
       "      <td>33.000000</td>\n",
       "      <td>72.000000</td>\n",
       "      <td>8.000000</td>\n",
       "      <td>103.000000</td>\n",
       "      <td>1.000000</td>\n",
       "      <td>-1.000000</td>\n",
       "      <td>0.000000</td>\n",
       "    </tr>\n",
       "    <tr>\n",
       "      <th>50%</th>\n",
       "      <td>39.000000</td>\n",
       "      <td>448.000000</td>\n",
       "      <td>16.000000</td>\n",
       "      <td>180.000000</td>\n",
       "      <td>2.000000</td>\n",
       "      <td>-1.000000</td>\n",
       "      <td>0.000000</td>\n",
       "    </tr>\n",
       "    <tr>\n",
       "      <th>75%</th>\n",
       "      <td>48.000000</td>\n",
       "      <td>1428.000000</td>\n",
       "      <td>21.000000</td>\n",
       "      <td>319.000000</td>\n",
       "      <td>3.000000</td>\n",
       "      <td>-1.000000</td>\n",
       "      <td>0.000000</td>\n",
       "    </tr>\n",
       "    <tr>\n",
       "      <th>max</th>\n",
       "      <td>95.000000</td>\n",
       "      <td>102127.000000</td>\n",
       "      <td>31.000000</td>\n",
       "      <td>4918.000000</td>\n",
       "      <td>63.000000</td>\n",
       "      <td>871.000000</td>\n",
       "      <td>275.000000</td>\n",
       "    </tr>\n",
       "  </tbody>\n",
       "</table>\n",
       "</div>"
      ],
      "text/plain": [
       "                age        balance           day      duration      campaign  \\\n",
       "count  45211.000000   45211.000000  45211.000000  45211.000000  45211.000000   \n",
       "mean      40.936210    1362.272058     15.806419    258.163080      2.763841   \n",
       "std       10.618762    3044.765829      8.322476    257.527812      3.098021   \n",
       "min       18.000000   -8019.000000      1.000000      0.000000      1.000000   \n",
       "25%       33.000000      72.000000      8.000000    103.000000      1.000000   \n",
       "50%       39.000000     448.000000     16.000000    180.000000      2.000000   \n",
       "75%       48.000000    1428.000000     21.000000    319.000000      3.000000   \n",
       "max       95.000000  102127.000000     31.000000   4918.000000     63.000000   \n",
       "\n",
       "       days-since-last-contact      previous  \n",
       "count             45211.000000  43872.000000  \n",
       "mean                 40.197828      0.580963  \n",
       "std                 100.128746      2.314625  \n",
       "min                  -1.000000      0.000000  \n",
       "25%                  -1.000000      0.000000  \n",
       "50%                  -1.000000      0.000000  \n",
       "75%                  -1.000000      0.000000  \n",
       "max                 871.000000    275.000000  "
      ]
     },
     "execution_count": 15,
     "metadata": {},
     "output_type": "execute_result"
    }
   ],
   "source": [
    "# Summary statistics for numerical columns\n",
    "df.describe()"
   ]
  },
  {
   "cell_type": "code",
   "execution_count": 19,
   "id": "90e7cd8a-1c2b-4342-b69d-457c940c86f5",
   "metadata": {},
   "outputs": [
    {
     "data": {
      "text/plain": [
       "days-since-last-contact\n",
       "-1      36954\n",
       " 1         15\n",
       " 2         37\n",
       " 3          1\n",
       " 4          2\n",
       "        ...  \n",
       " 838        1\n",
       " 842        1\n",
       " 850        1\n",
       " 854        1\n",
       " 871        1\n",
       "Name: count, Length: 559, dtype: int64"
      ]
     },
     "execution_count": 19,
     "metadata": {},
     "output_type": "execute_result"
    }
   ],
   "source": [
    "# Frequency count of values in 'days-since-last-contact'\n",
    "df['days-since-last-contact'].value_counts().sort_index()"
   ]
  },
  {
   "cell_type": "code",
   "execution_count": 21,
   "id": "0d94581f-700b-489b-9b1e-936748810458",
   "metadata": {},
   "outputs": [
    {
     "data": {
      "text/plain": [
       "previous\n",
       "0.0      35858\n",
       "1.0       2680\n",
       "2.0       2045\n",
       "3.0       1114\n",
       "4.0        697\n",
       "5.0        448\n",
       "6.0        266\n",
       "7.0        197\n",
       "8.0        126\n",
       "9.0         91\n",
       "10.0        65\n",
       "11.0        64\n",
       "12.0        42\n",
       "13.0        38\n",
       "14.0        18\n",
       "15.0        19\n",
       "16.0        13\n",
       "17.0        14\n",
       "18.0         6\n",
       "19.0        11\n",
       "20.0         8\n",
       "21.0         4\n",
       "22.0         5\n",
       "23.0         7\n",
       "24.0         5\n",
       "25.0         4\n",
       "26.0         2\n",
       "27.0         4\n",
       "28.0         2\n",
       "29.0         4\n",
       "30.0         3\n",
       "32.0         1\n",
       "35.0         1\n",
       "37.0         2\n",
       "38.0         2\n",
       "40.0         1\n",
       "41.0         1\n",
       "51.0         1\n",
       "55.0         1\n",
       "58.0         1\n",
       "275.0        1\n",
       "Name: count, dtype: int64"
      ]
     },
     "execution_count": 21,
     "metadata": {},
     "output_type": "execute_result"
    }
   ],
   "source": [
    "df['previous'].value_counts().sort_index()"
   ]
  },
  {
   "cell_type": "markdown",
   "id": "9e3040af-018e-4357-b5e7-8b2b53981209",
   "metadata": {},
   "source": [
    "### Summary of Numerical Columns\n",
    "\n",
    "Using `df.describe()`, we observed the following:\n",
    "- **Age** ranges from 18 to 95, with an average of ~41 years.\n",
    "- **Balance** has a wide spread, ranging from -8019 to 102,127 euros. This indicates possible outliers or negative balances (e.g., debt).\n",
    "- **Duration** of last contact has a large standard deviation, from 0 to 4918 seconds.\n",
    "- **Campaign** shows that some clients were contacted as many as 63 times in the last campaign.\n",
    "- **Days since last contact** has a peculiar value of -1, which occurs **36,954 times** out of 45,211. This strongly suggests that `-1` is used as a **placeholder to indicate that the client was not previously contacted**.\n",
    "- **Previous** contacts is `0` for the majority of clients (~35,858), confirming that most customers were either contacted for the first time or had no meaningful engagement in prior campaigns.\n"
   ]
  },
  {
   "cell_type": "code",
   "execution_count": 23,
   "id": "a1bd0ff0-e9a5-4a3f-bea8-02b36271223f",
   "metadata": {},
   "outputs": [
    {
     "data": {
      "text/html": [
       "<div>\n",
       "<style scoped>\n",
       "    .dataframe tbody tr th:only-of-type {\n",
       "        vertical-align: middle;\n",
       "    }\n",
       "\n",
       "    .dataframe tbody tr th {\n",
       "        vertical-align: top;\n",
       "    }\n",
       "\n",
       "    .dataframe thead th {\n",
       "        text-align: right;\n",
       "    }\n",
       "</style>\n",
       "<table border=\"1\" class=\"dataframe\">\n",
       "  <thead>\n",
       "    <tr style=\"text-align: right;\">\n",
       "      <th></th>\n",
       "      <th>job</th>\n",
       "      <th>marital-status</th>\n",
       "      <th>education</th>\n",
       "      <th>default</th>\n",
       "      <th>housing</th>\n",
       "      <th>loan</th>\n",
       "      <th>contact</th>\n",
       "      <th>month</th>\n",
       "      <th>previous-campaign-result</th>\n",
       "      <th>marketing-result</th>\n",
       "    </tr>\n",
       "  </thead>\n",
       "  <tbody>\n",
       "    <tr>\n",
       "      <th>count</th>\n",
       "      <td>43889</td>\n",
       "      <td>43814</td>\n",
       "      <td>43853</td>\n",
       "      <td>45211</td>\n",
       "      <td>45211</td>\n",
       "      <td>45211</td>\n",
       "      <td>45211</td>\n",
       "      <td>45211</td>\n",
       "      <td>45211</td>\n",
       "      <td>45211</td>\n",
       "    </tr>\n",
       "    <tr>\n",
       "      <th>unique</th>\n",
       "      <td>12</td>\n",
       "      <td>9</td>\n",
       "      <td>4</td>\n",
       "      <td>2</td>\n",
       "      <td>2</td>\n",
       "      <td>2</td>\n",
       "      <td>3</td>\n",
       "      <td>12</td>\n",
       "      <td>4</td>\n",
       "      <td>2</td>\n",
       "    </tr>\n",
       "    <tr>\n",
       "      <th>top</th>\n",
       "      <td>blue-collar</td>\n",
       "      <td>married</td>\n",
       "      <td>secondary</td>\n",
       "      <td>no</td>\n",
       "      <td>yes</td>\n",
       "      <td>no</td>\n",
       "      <td>cellular</td>\n",
       "      <td>may</td>\n",
       "      <td>unknown</td>\n",
       "      <td>failure</td>\n",
       "    </tr>\n",
       "    <tr>\n",
       "      <th>freq</th>\n",
       "      <td>9453</td>\n",
       "      <td>25061</td>\n",
       "      <td>22488</td>\n",
       "      <td>44396</td>\n",
       "      <td>25130</td>\n",
       "      <td>37967</td>\n",
       "      <td>29285</td>\n",
       "      <td>13766</td>\n",
       "      <td>36959</td>\n",
       "      <td>39922</td>\n",
       "    </tr>\n",
       "  </tbody>\n",
       "</table>\n",
       "</div>"
      ],
      "text/plain": [
       "                job marital-status  education default housing   loan  \\\n",
       "count         43889          43814      43853   45211   45211  45211   \n",
       "unique           12              9          4       2       2      2   \n",
       "top     blue-collar        married  secondary      no     yes     no   \n",
       "freq           9453          25061      22488   44396   25130  37967   \n",
       "\n",
       "         contact  month previous-campaign-result marketing-result  \n",
       "count      45211  45211                    45211            45211  \n",
       "unique         3     12                        4                2  \n",
       "top     cellular    may                  unknown          failure  \n",
       "freq       29285  13766                    36959            39922  "
      ]
     },
     "execution_count": 23,
     "metadata": {},
     "output_type": "execute_result"
    }
   ],
   "source": [
    "# Summary statistics for categorical columns\n",
    "df.describe(include=\"object\")"
   ]
  },
  {
   "cell_type": "markdown",
   "id": "7eb86d46-aeb7-4992-a05a-e441de44ebb1",
   "metadata": {},
   "source": [
    "### Summary of Categorical Columns\n",
    "\n",
    "Using `df.describe(include=\"object\")`, we see:\n",
    "- **Job** has 12 unique categories, most common being `blue-collar`.\n",
    "- **Marital status** is dominated by `married`.\n",
    "- **Education** is mostly `secondary`.\n",
    "- **Most clients have not defaulted** (`no`), have **housing loans** (`yes`), but **no personal loans** (`no`).\n",
    "- **Most contacts were via `cellular`**, and the most common **month** was `may`.\n",
    "- **The previous campaign result** was most often `unknown`, and the **marketing result** was a `failure` for most clients.\n",
    "\n",
    "There is some missing data in the categorical columns (e.g., job, marital-status), as their counts are less than 45,211. We should handle that before the exploratory analysis"
   ]
  },
  {
   "cell_type": "markdown",
   "id": "8e5443a5-52ba-41e6-92c0-02007a6c1c97",
   "metadata": {},
   "source": [
    "## Data Cleaning"
   ]
  },
  {
   "cell_type": "code",
   "execution_count": 24,
   "id": "f9ac3735-eb2e-42d8-951a-a127c35cba43",
   "metadata": {},
   "outputs": [
    {
     "data": {
      "text/plain": [
       "age                            0\n",
       "job                         1322\n",
       "marital-status              1397\n",
       "education                   1358\n",
       "default                        0\n",
       "balance                        0\n",
       "housing                        0\n",
       "loan                           0\n",
       "contact                        0\n",
       "day                            0\n",
       "month                          0\n",
       "duration                       0\n",
       "campaign                       0\n",
       "days-since-last-contact        0\n",
       "previous                    1339\n",
       "previous-campaign-result       0\n",
       "marketing-result               0\n",
       "dtype: int64"
      ]
     },
     "execution_count": 24,
     "metadata": {},
     "output_type": "execute_result"
    }
   ],
   "source": [
    "# Check missing values\n",
    "df.isnull().sum()"
   ]
  },
  {
   "cell_type": "markdown",
   "id": "8326204b-5928-4d23-929d-c8483baf7ec4",
   "metadata": {},
   "source": [
    "As mentioned before there is some columns that has fewer entries than others. We see here that the columns 'job', 'marital-status' and 'education' has missing values. We should handle that"
   ]
  },
  {
   "cell_type": "code",
   "execution_count": 37,
   "id": "093aa3e4-54fe-432f-b784-dec27a2dfb73",
   "metadata": {},
   "outputs": [
    {
     "data": {
      "text/plain": [
       "age                            0\n",
       "job                            0\n",
       "marital-status              1397\n",
       "education                   1358\n",
       "default                        0\n",
       "balance                        0\n",
       "housing                        0\n",
       "loan                           0\n",
       "contact                        0\n",
       "day                            0\n",
       "month                          0\n",
       "duration                       0\n",
       "campaign                       0\n",
       "days-since-last-contact        0\n",
       "previous                    1339\n",
       "previous-campaign-result       0\n",
       "marketing-result               0\n",
       "dtype: int64"
      ]
     },
     "execution_count": 37,
     "metadata": {},
     "output_type": "execute_result"
    }
   ],
   "source": [
    "df['job'] = df['job'].fillna('unknown')\n",
    "df.isnull().sum()"
   ]
  },
  {
   "cell_type": "code",
   "execution_count": 64,
   "id": "9507c0ac-e7f9-41d8-8305-16c24a192618",
   "metadata": {},
   "outputs": [
    {
     "data": {
      "text/plain": [
       "job\n",
       "blue-collar      9453\n",
       "management       9184\n",
       "technician       7376\n",
       "admin.           5028\n",
       "services         4015\n",
       "retired          2207\n",
       "unknown          1604\n",
       "self-employed    1529\n",
       "entrepreneur     1449\n",
       "unemployed       1263\n",
       "housemaid        1196\n",
       "student           907\n",
       "Name: count, dtype: int64"
      ]
     },
     "execution_count": 64,
     "metadata": {},
     "output_type": "execute_result"
    }
   ],
   "source": [
    "df['job'].value_counts(dropna=False)"
   ]
  },
  {
   "cell_type": "code",
   "execution_count": 80,
   "id": "7c00125b-a58e-459e-af18-a7e579cde555",
   "metadata": {},
   "outputs": [],
   "source": [
    "df['job'] = df['job'].replace('admin.', 'admin')"
   ]
  },
  {
   "cell_type": "code",
   "execution_count": 81,
   "id": "5a2a2716-4c9a-447d-a58f-dd72317ce0b1",
   "metadata": {},
   "outputs": [
    {
     "data": {
      "text/plain": [
       "job\n",
       "blue-collar      9453\n",
       "management       9184\n",
       "technician       7376\n",
       "admin            5028\n",
       "services         4015\n",
       "retired          2207\n",
       "unknown          1604\n",
       "self-employed    1529\n",
       "entrepreneur     1449\n",
       "unemployed       1263\n",
       "housemaid        1196\n",
       "student           907\n",
       "Name: count, dtype: int64"
      ]
     },
     "execution_count": 81,
     "metadata": {},
     "output_type": "execute_result"
    }
   ],
   "source": [
    "df['job'].value_counts(dropna=False)"
   ]
  },
  {
   "cell_type": "markdown",
   "id": "00e93745-a686-4723-9280-28f175e1e44f",
   "metadata": {},
   "source": [
    "### Cleaning the `job` Column\n",
    "\n",
    "The `job` column contained inconsistent formatting and missing values. To clean this column:\n",
    "\n",
    "- I filled missing values with the placeholder `\"unknown\"` using `.fillna(\"unknown\")` to preserve those records for analysis.\n",
    "- I identified that the category `\"admin.\"` was being treated separately due to the trailing period. I corrected this by replacing it with `\"admin\"` using `.replace(\"admin.\", \"admin\")`.\n",
    "\n",
    "This cleaning ensured that the job categories are consistent and reduced redundancy caused by slight formatting issues.\n"
   ]
  },
  {
   "cell_type": "code",
   "execution_count": 68,
   "id": "1c8928ab-abb8-463e-9c04-de3d7ec1f8cf",
   "metadata": {},
   "outputs": [
    {
     "data": {
      "text/plain": [
       "education\n",
       "secondary    22488\n",
       "tertiary     12926\n",
       "primary       6635\n",
       "unknown       3162\n",
       "Name: count, dtype: int64"
      ]
     },
     "execution_count": 68,
     "metadata": {},
     "output_type": "execute_result"
    }
   ],
   "source": [
    "df['education'].value_counts(dropna=False)\n"
   ]
  },
  {
   "cell_type": "code",
   "execution_count": 69,
   "id": "0bd092f5-e281-4e02-9348-c5e01846b18a",
   "metadata": {},
   "outputs": [
    {
     "data": {
      "text/plain": [
       "age                         0\n",
       "job                         0\n",
       "marital-status              0\n",
       "education                   0\n",
       "default                     0\n",
       "balance                     0\n",
       "housing                     0\n",
       "loan                        0\n",
       "contact                     0\n",
       "day                         0\n",
       "month                       0\n",
       "duration                    0\n",
       "campaign                    0\n",
       "days-since-last-contact     0\n",
       "previous                    0\n",
       "previous-campaign-result    0\n",
       "marketing-result            0\n",
       "previously_contacted        0\n",
       "dtype: int64"
      ]
     },
     "execution_count": 69,
     "metadata": {},
     "output_type": "execute_result"
    }
   ],
   "source": [
    "df['education'] = df['education'].fillna('unknown')\n",
    "df.isnull().sum()"
   ]
  },
  {
   "cell_type": "markdown",
   "id": "5d4a33f1-833d-4695-9ff6-876000c88c81",
   "metadata": {},
   "source": [
    "### Cleaning the `education` Column\n",
    "\n",
    "The `education` column included some missing values. These were filled with the placeholder `\"unknown\"` using `.fillna(\"unknown\")` to retain those rows for further analysis."
   ]
  },
  {
   "cell_type": "code",
   "execution_count": 70,
   "id": "25c50511-0284-4a69-9662-f6a2dd28ec64",
   "metadata": {},
   "outputs": [
    {
     "data": {
      "text/plain": [
       "marital-status\n",
       "married     26341\n",
       "single      12422\n",
       "divorced     5051\n",
       "unknown      1397\n",
       "Name: count, dtype: int64"
      ]
     },
     "execution_count": 70,
     "metadata": {},
     "output_type": "execute_result"
    }
   ],
   "source": [
    "df['marital-status'].value_counts(dropna=False)"
   ]
  },
  {
   "cell_type": "code",
   "execution_count": 71,
   "id": "1f8fdabe-ec30-4561-95f0-e4f05c08f3e2",
   "metadata": {},
   "outputs": [],
   "source": [
    "df['marital-status'] = df['marital-status'].str.strip().str.lower()\n"
   ]
  },
  {
   "cell_type": "code",
   "execution_count": 72,
   "id": "63de7d5e-ebc4-45e8-8a11-09502414d1d3",
   "metadata": {},
   "outputs": [
    {
     "data": {
      "text/plain": [
       "marital-status\n",
       "married     26341\n",
       "single      12422\n",
       "divorced     5051\n",
       "unknown      1397\n",
       "Name: count, dtype: int64"
      ]
     },
     "execution_count": 72,
     "metadata": {},
     "output_type": "execute_result"
    }
   ],
   "source": [
    "df['marital-status'].value_counts(dropna=False)"
   ]
  },
  {
   "cell_type": "code",
   "execution_count": 73,
   "id": "4c1f6059-1232-474b-b49a-8dd29c4e7ba0",
   "metadata": {},
   "outputs": [],
   "source": [
    "df['marital-status'] = df['marital-status'].fillna('unknown')"
   ]
  },
  {
   "cell_type": "code",
   "execution_count": 74,
   "id": "21f157d0-0dd2-406b-987f-a20dbe3b3088",
   "metadata": {},
   "outputs": [
    {
     "data": {
      "text/plain": [
       "marital-status\n",
       "married     26341\n",
       "single      12422\n",
       "divorced     5051\n",
       "unknown      1397\n",
       "Name: count, dtype: int64"
      ]
     },
     "execution_count": 74,
     "metadata": {},
     "output_type": "execute_result"
    }
   ],
   "source": [
    "df['marital-status'].value_counts(dropna=False)"
   ]
  },
  {
   "cell_type": "code",
   "execution_count": 75,
   "id": "1f956c0d-eb5c-4796-9206-cd6b319b05c5",
   "metadata": {},
   "outputs": [
    {
     "data": {
      "text/plain": [
       "age                         0\n",
       "job                         0\n",
       "marital-status              0\n",
       "education                   0\n",
       "default                     0\n",
       "balance                     0\n",
       "housing                     0\n",
       "loan                        0\n",
       "contact                     0\n",
       "day                         0\n",
       "month                       0\n",
       "duration                    0\n",
       "campaign                    0\n",
       "days-since-last-contact     0\n",
       "previous                    0\n",
       "previous-campaign-result    0\n",
       "marketing-result            0\n",
       "previously_contacted        0\n",
       "dtype: int64"
      ]
     },
     "execution_count": 75,
     "metadata": {},
     "output_type": "execute_result"
    }
   ],
   "source": [
    "df.isnull().sum()"
   ]
  },
  {
   "cell_type": "markdown",
   "id": "1483f4cd-1a34-492d-9867-bf92b1963ef2",
   "metadata": {},
   "source": [
    "### Cleaning the `marital-status` Column\n",
    "\n",
    "The `marital-status` column contained inconsistencies in formatting, such as different capitalizations of the same category (`\"married\"`, `\"Married\"`, `\"MARRIED\"`, etc.). There were also 1,397 missing values represented as `NaN`.\n",
    "\n",
    "To address this:\n",
    "- I converted all entries to lowercase and removed leading/trailing whitespace using `str.lower()` and `str.strip()` to ensure consistency.\n",
    "- I replaced missing values with the placeholder `\"unknown\"` using `.fillna(\"unknown\")` to retain those records for analysis.\n",
    "\n",
    "This cleaning step ensures that all unique categories in `marital-status` are treated as one, avoiding duplication due to inconsistent formatting.\n"
   ]
  },
  {
   "cell_type": "code",
   "execution_count": 83,
   "id": "b9b593f2-26c6-4314-b42a-bf22468c6f14",
   "metadata": {},
   "outputs": [
    {
     "data": {
      "text/html": [
       "<div>\n",
       "<style scoped>\n",
       "    .dataframe tbody tr th:only-of-type {\n",
       "        vertical-align: middle;\n",
       "    }\n",
       "\n",
       "    .dataframe tbody tr th {\n",
       "        vertical-align: top;\n",
       "    }\n",
       "\n",
       "    .dataframe thead th {\n",
       "        text-align: right;\n",
       "    }\n",
       "</style>\n",
       "<table border=\"1\" class=\"dataframe\">\n",
       "  <thead>\n",
       "    <tr style=\"text-align: right;\">\n",
       "      <th></th>\n",
       "      <th>job</th>\n",
       "      <th>marital-status</th>\n",
       "      <th>education</th>\n",
       "      <th>default</th>\n",
       "      <th>housing</th>\n",
       "      <th>loan</th>\n",
       "      <th>contact</th>\n",
       "      <th>month</th>\n",
       "      <th>previous-campaign-result</th>\n",
       "      <th>marketing-result</th>\n",
       "    </tr>\n",
       "  </thead>\n",
       "  <tbody>\n",
       "    <tr>\n",
       "      <th>count</th>\n",
       "      <td>45211</td>\n",
       "      <td>45211</td>\n",
       "      <td>45211</td>\n",
       "      <td>45211</td>\n",
       "      <td>45211</td>\n",
       "      <td>45211</td>\n",
       "      <td>45211</td>\n",
       "      <td>45211</td>\n",
       "      <td>45211</td>\n",
       "      <td>45211</td>\n",
       "    </tr>\n",
       "    <tr>\n",
       "      <th>unique</th>\n",
       "      <td>12</td>\n",
       "      <td>4</td>\n",
       "      <td>4</td>\n",
       "      <td>2</td>\n",
       "      <td>2</td>\n",
       "      <td>2</td>\n",
       "      <td>3</td>\n",
       "      <td>12</td>\n",
       "      <td>4</td>\n",
       "      <td>2</td>\n",
       "    </tr>\n",
       "    <tr>\n",
       "      <th>top</th>\n",
       "      <td>blue-collar</td>\n",
       "      <td>married</td>\n",
       "      <td>secondary</td>\n",
       "      <td>no</td>\n",
       "      <td>yes</td>\n",
       "      <td>no</td>\n",
       "      <td>cellular</td>\n",
       "      <td>may</td>\n",
       "      <td>unknown</td>\n",
       "      <td>failure</td>\n",
       "    </tr>\n",
       "    <tr>\n",
       "      <th>freq</th>\n",
       "      <td>9453</td>\n",
       "      <td>26341</td>\n",
       "      <td>22488</td>\n",
       "      <td>44396</td>\n",
       "      <td>25130</td>\n",
       "      <td>37967</td>\n",
       "      <td>29285</td>\n",
       "      <td>13766</td>\n",
       "      <td>36959</td>\n",
       "      <td>39922</td>\n",
       "    </tr>\n",
       "  </tbody>\n",
       "</table>\n",
       "</div>"
      ],
      "text/plain": [
       "                job marital-status  education default housing   loan  \\\n",
       "count         45211          45211      45211   45211   45211  45211   \n",
       "unique           12              4          4       2       2      2   \n",
       "top     blue-collar        married  secondary      no     yes     no   \n",
       "freq           9453          26341      22488   44396   25130  37967   \n",
       "\n",
       "         contact  month previous-campaign-result marketing-result  \n",
       "count      45211  45211                    45211            45211  \n",
       "unique         3     12                        4                2  \n",
       "top     cellular    may                  unknown          failure  \n",
       "freq       29285  13766                    36959            39922  "
      ]
     },
     "execution_count": 83,
     "metadata": {},
     "output_type": "execute_result"
    }
   ],
   "source": [
    "df.describe(include=\"object\")"
   ]
  },
  {
   "cell_type": "code",
   "execution_count": 84,
   "id": "300f23a3-b55e-465f-ba6a-3f8b5c63a9b7",
   "metadata": {},
   "outputs": [],
   "source": [
    "text_cols = [\n",
    "    'education', 'default', 'housing', 'loan',\n",
    "    'contact', 'month', 'previous-campaign-result', 'marketing-result'\n",
    "]\n",
    "\n",
    "for col in text_cols:\n",
    "    df[col] = df[col].str.strip().str.lower()"
   ]
  },
  {
   "cell_type": "code",
   "execution_count": 86,
   "id": "dc120322-4162-4010-8f9b-35f11fc3691a",
   "metadata": {},
   "outputs": [
    {
     "name": "stdout",
     "output_type": "stream",
     "text": [
      "education\n",
      "secondary    22488\n",
      "tertiary     12926\n",
      "primary       6635\n",
      "unknown       3162\n",
      "Name: count, dtype: int64\n",
      "default\n",
      "no     44396\n",
      "yes      815\n",
      "Name: count, dtype: int64\n",
      "housing\n",
      "yes    25130\n",
      "no     20081\n",
      "Name: count, dtype: int64\n",
      "loan\n",
      "no     37967\n",
      "yes     7244\n",
      "Name: count, dtype: int64\n",
      "contact\n",
      "cellular     29285\n",
      "unknown      13020\n",
      "telephone     2906\n",
      "Name: count, dtype: int64\n",
      "month\n",
      "may    13766\n",
      "jul     6895\n",
      "aug     6247\n",
      "jun     5341\n",
      "nov     3970\n",
      "apr     2932\n",
      "feb     2649\n",
      "jan     1403\n",
      "oct      738\n",
      "sep      579\n",
      "mar      477\n",
      "dec      214\n",
      "Name: count, dtype: int64\n",
      "previous-campaign-result\n",
      "unknown    36959\n",
      "failure     4901\n",
      "other       1840\n",
      "success     1511\n",
      "Name: count, dtype: int64\n",
      "marketing-result\n",
      "failure    39922\n",
      "success     5289\n",
      "Name: count, dtype: int64\n"
     ]
    }
   ],
   "source": [
    "for col in text_cols:\n",
    "    print(df[col].value_counts(dropna=False))\n"
   ]
  },
  {
   "cell_type": "code",
   "execution_count": 87,
   "id": "7c373d0c-e2ed-4452-8f06-82149652031b",
   "metadata": {},
   "outputs": [
    {
     "data": {
      "text/plain": [
       "month\n",
       "may    13766\n",
       "jul     6895\n",
       "aug     6247\n",
       "jun     5341\n",
       "nov     3970\n",
       "apr     2932\n",
       "feb     2649\n",
       "jan     1403\n",
       "oct      738\n",
       "sep      579\n",
       "mar      477\n",
       "dec      214\n",
       "Name: count, dtype: int64"
      ]
     },
     "execution_count": 87,
     "metadata": {},
     "output_type": "execute_result"
    }
   ],
   "source": [
    "df['month'].value_counts()\n"
   ]
  },
  {
   "cell_type": "code",
   "execution_count": 90,
   "id": "f4576931-b0aa-4fea-b36f-100d79882b85",
   "metadata": {},
   "outputs": [
    {
     "data": {
      "text/plain": [
       "month\n",
       "may    13766\n",
       "jul     6895\n",
       "aug     6247\n",
       "jun     5341\n",
       "nov     3970\n",
       "apr     2932\n",
       "feb     2649\n",
       "jan     1403\n",
       "oct      738\n",
       "sep      579\n",
       "mar      477\n",
       "dec      214\n",
       "Name: count, dtype: int64"
      ]
     },
     "execution_count": 90,
     "metadata": {},
     "output_type": "execute_result"
    }
   ],
   "source": [
    "month_order = ['jan', 'feb', 'mar', 'apr', 'may', 'jun', \n",
    "               'jul', 'aug', 'sep', 'oct', 'nov', 'dec']\n",
    "df['month'] = pd.Categorical(df['month'], categories=month_order, ordered=True)\n",
    "df['month'].value_counts()"
   ]
  },
  {
   "cell_type": "markdown",
   "id": "f112f4eb-4c4e-4185-a1b7-a42061ba4371",
   "metadata": {},
   "source": [
    "The `previous` column also has some missing values, that we should handle"
   ]
  },
  {
   "cell_type": "code",
   "execution_count": 76,
   "id": "f3661d3c-7472-4407-8725-1d0da9e75d09",
   "metadata": {},
   "outputs": [
    {
     "data": {
      "text/plain": [
       "previous\n",
       "0      37197\n",
       "1       2680\n",
       "2       2045\n",
       "3       1114\n",
       "4        697\n",
       "5        448\n",
       "6        266\n",
       "7        197\n",
       "8        126\n",
       "9         91\n",
       "10        65\n",
       "11        64\n",
       "12        42\n",
       "13        38\n",
       "15        19\n",
       "14        18\n",
       "17        14\n",
       "16        13\n",
       "19        11\n",
       "20         8\n",
       "23         7\n",
       "18         6\n",
       "22         5\n",
       "24         5\n",
       "21         4\n",
       "29         4\n",
       "25         4\n",
       "27         4\n",
       "30         3\n",
       "26         2\n",
       "37         2\n",
       "28         2\n",
       "38         2\n",
       "51         1\n",
       "275        1\n",
       "58         1\n",
       "32         1\n",
       "40         1\n",
       "55         1\n",
       "35         1\n",
       "41         1\n",
       "Name: count, dtype: int64"
      ]
     },
     "execution_count": 76,
     "metadata": {},
     "output_type": "execute_result"
    }
   ],
   "source": [
    "df['previous'].value_counts(dropna=False)"
   ]
  },
  {
   "cell_type": "code",
   "execution_count": 77,
   "id": "223eab09-98d4-4a22-864a-473d214bc0c0",
   "metadata": {},
   "outputs": [],
   "source": [
    "df['previous'] = df['previous'].fillna(0.0)\n",
    "df['previous'] = df['previous'].astype(int)"
   ]
  },
  {
   "cell_type": "code",
   "execution_count": 78,
   "id": "a355fd60-2595-43e6-b25f-4cffcbda3d4f",
   "metadata": {},
   "outputs": [
    {
     "data": {
      "text/plain": [
       "previous\n",
       "0      37197\n",
       "1       2680\n",
       "2       2045\n",
       "3       1114\n",
       "4        697\n",
       "5        448\n",
       "6        266\n",
       "7        197\n",
       "8        126\n",
       "9         91\n",
       "10        65\n",
       "11        64\n",
       "12        42\n",
       "13        38\n",
       "15        19\n",
       "14        18\n",
       "17        14\n",
       "16        13\n",
       "19        11\n",
       "20         8\n",
       "23         7\n",
       "18         6\n",
       "22         5\n",
       "24         5\n",
       "21         4\n",
       "29         4\n",
       "25         4\n",
       "27         4\n",
       "30         3\n",
       "26         2\n",
       "37         2\n",
       "28         2\n",
       "38         2\n",
       "51         1\n",
       "275        1\n",
       "58         1\n",
       "32         1\n",
       "40         1\n",
       "55         1\n",
       "35         1\n",
       "41         1\n",
       "Name: count, dtype: int64"
      ]
     },
     "execution_count": 78,
     "metadata": {},
     "output_type": "execute_result"
    }
   ],
   "source": [
    "df['previous'].value_counts(dropna=False)"
   ]
  },
  {
   "cell_type": "code",
   "execution_count": 79,
   "id": "664cd52c-35c4-4f96-9a51-8b8028cba100",
   "metadata": {},
   "outputs": [
    {
     "data": {
      "text/plain": [
       "age                         0\n",
       "job                         0\n",
       "marital-status              0\n",
       "education                   0\n",
       "default                     0\n",
       "balance                     0\n",
       "housing                     0\n",
       "loan                        0\n",
       "contact                     0\n",
       "day                         0\n",
       "month                       0\n",
       "duration                    0\n",
       "campaign                    0\n",
       "days-since-last-contact     0\n",
       "previous                    0\n",
       "previous-campaign-result    0\n",
       "marketing-result            0\n",
       "previously_contacted        0\n",
       "dtype: int64"
      ]
     },
     "execution_count": 79,
     "metadata": {},
     "output_type": "execute_result"
    }
   ],
   "source": [
    "df.isnull().sum()"
   ]
  },
  {
   "cell_type": "markdown",
   "id": "c2ac28b3-b684-4d24-bcba-2315d6dae7d9",
   "metadata": {},
   "source": [
    "### Cleaning the `previous` Column\n",
    "\n",
    "The `previous` column indicates how many times a client was contacted in previous marketing campaigns. A large number of values were `0`, meaning most clients had not been contacted before. Missing values were filled with `0` to reflect that assumption. The column was also converted to integer type for clarity and consistency."
   ]
  },
  {
   "cell_type": "markdown",
   "id": "7f233c4b",
   "metadata": {},
   "source": [
    "# Exploration"
   ]
  },
  {
   "cell_type": "code",
   "execution_count": null,
   "id": "d0d4793e-5cd0-40dd-9fb4-11cac4a661dc",
   "metadata": {},
   "outputs": [],
   "source": []
  },
  {
   "cell_type": "markdown",
   "id": "6171aaae",
   "metadata": {},
   "source": [
    "Here the student explains the transition into exploratory data analysis."
   ]
  },
  {
   "cell_type": "code",
   "execution_count": 2,
   "id": "918ac968",
   "metadata": {},
   "outputs": [],
   "source": [
    "import matplotlib.pyplot as plt"
   ]
  },
  {
   "cell_type": "markdown",
   "id": "9280d398",
   "metadata": {},
   "source": [
    "Here the student motivates the following cell of code"
   ]
  },
  {
   "cell_type": "code",
   "execution_count": 482,
   "id": "7df34623",
   "metadata": {},
   "outputs": [
    {
     "data": {
      "image/png": "[encoded data removed]",
      "text/plain": [
       "<Figure size 640x480 with 1 Axes>"
      ]
     },
     "metadata": {},
     "output_type": "display_data"
    }
   ],
   "source": [
    "tmp_df = pd.DataFrame(df, columns=[\"age\"])\n",
    "tmp_df.boxplot(vert=False)\n",
    "plt.title('Age Distribution')\n",
    "plt.show()"
   ]
  },
  {
   "cell_type": "markdown",
   "id": "0dcf929a",
   "metadata": {},
   "source": [
    "Here the student interprets the visualization"
   ]
  },
  {
   "cell_type": "markdown",
   "id": "0bcf89d2",
   "metadata": {},
   "source": [
    "Motivation..."
   ]
  },
  {
   "cell_type": "code",
   "execution_count": 483,
   "id": "7fd5efe4",
   "metadata": {},
   "outputs": [
    {
     "data": {
      "text/plain": [
       "count     45211.000000\n",
       "mean       1362.272058\n",
       "std        3044.765829\n",
       "min       -8019.000000\n",
       "25%          72.000000\n",
       "50%         448.000000\n",
       "75%        1428.000000\n",
       "max      102127.000000\n",
       "Name: balance, dtype: float64"
      ]
     },
     "execution_count": 483,
     "metadata": {},
     "output_type": "execute_result"
    }
   ],
   "source": [
    "df[\"balance\"].describe()"
   ]
  },
  {
   "cell_type": "markdown",
   "id": "5ba403a1",
   "metadata": {},
   "source": [
    "Interpretation..."
   ]
  },
  {
   "cell_type": "code",
   "execution_count": 484,
   "id": "5b0d6eee",
   "metadata": {},
   "outputs": [
    {
     "data": {
      "image/png": "[encoded data removed]",
      "text/plain": [
       "<Figure size 640x480 with 1 Axes>"
      ]
     },
     "metadata": {},
     "output_type": "display_data"
    }
   ],
   "source": [
    "plt.hist(df[\"balance\"], bins=20)\n",
    "plt.xlabel(\"Balance\")\n",
    "plt.ylabel(\"Count\")\n",
    "plt.title(\"Balance Distribution\")\n",
    "plt.show()"
   ]
  },
  {
   "cell_type": "markdown",
   "id": "d97a702d",
   "metadata": {},
   "source": [
    "[...]"
   ]
  },
  {
   "cell_type": "code",
   "execution_count": 18,
   "id": "4b8b81fd",
   "metadata": {},
   "outputs": [
    {
     "data": {
      "image/png": "[encoded data removed]",
      "text/plain": [
       "<Figure size 640x480 with 1 Axes>"
      ]
     },
     "metadata": {},
     "output_type": "display_data"
    }
   ],
   "source": [
    "[...]"
   ]
  },
  {
   "cell_type": "markdown",
   "id": "413fe444",
   "metadata": {},
   "source": [
    "[...]"
   ]
  },
  {
   "cell_type": "code",
   "execution_count": 486,
   "id": "b0d8cd85",
   "metadata": {},
   "outputs": [
    {
     "data": {
      "text/plain": [
       "job\n",
       "blue-collar      9453\n",
       "management       9184\n",
       "technician       7376\n",
       "admin.           5028\n",
       "services         4015\n",
       "retired          2207\n",
       "self-employed    1529\n",
       "entrepreneur     1449\n",
       "unemployed       1263\n",
       "housemaid        1196\n",
       "student           907\n",
       "unknown           282\n",
       "Name: count, dtype: int64"
      ]
     },
     "execution_count": 486,
     "metadata": {},
     "output_type": "execute_result"
    }
   ],
   "source": [
    "df[\"job\"].value_counts()"
   ]
  },
  {
   "cell_type": "markdown",
   "id": "69aca583",
   "metadata": {},
   "source": [
    "[...]"
   ]
  },
  {
   "cell_type": "markdown",
   "id": "091040b0",
   "metadata": {},
   "source": [
    "[...]"
   ]
  },
  {
   "cell_type": "code",
   "execution_count": 494,
   "id": "557c41bf",
   "metadata": {},
   "outputs": [],
   "source": [
    "def month_to_num(month):\n",
    "    switcher = {\n",
    "        \"jan\": 1,\n",
    "        \"feb\": 2,\n",
    "        \"mar\": 3,\n",
    "        \"apr\": 4,\n",
    "        \"may\": 5,\n",
    "        \"jun\": 6,\n",
    "        \"jul\": 7,\n",
    "        \"aug\": 8,\n",
    "        \"sep\": 9,\n",
    "        \"oct\": 10,\n",
    "        \"nov\": 11,\n",
    "        \"dec\": 12\n",
    "    }\n",
    "    return switcher.get(month, 0)"
   ]
  },
  {
   "cell_type": "code",
   "execution_count": 495,
   "id": "c20d498d",
   "metadata": {},
   "outputs": [
    {
     "data": {
      "image/png": "[encoded data removed]",
      "text/plain": [
       "<Figure size 640x480 with 1 Axes>"
      ]
     },
     "metadata": {},
     "output_type": "display_data"
    }
   ],
   "source": [
    "df[\"month\"].apply(month_to_num).hist(bins=12)\n",
    "plt.xlabel(\"Month\")\n",
    "plt.ylabel(\"Count\")\n",
    "plt.title(\"Month Distribution for latest contact\")\n",
    "plt.show()"
   ]
  },
  {
   "cell_type": "markdown",
   "id": "fdca54dd",
   "metadata": {},
   "source": [
    "I've left out a lot of the exploratory data analysis the student went through."
   ]
  },
  {
   "cell_type": "markdown",
   "id": "32d4748d",
   "metadata": {},
   "source": [
    "# Research questions and hypothesis"
   ]
  },
  {
   "cell_type": "markdown",
   "id": "150568ef-5f49-44f5-8cc1-0762e1278563",
   "metadata": {},
   "source": [
    "On the basis of the initial data exploration, the student now formulates some questions to ask and some hypotheses to test."
   ]
  },
  {
   "cell_type": "markdown",
   "id": "72d5b12c",
   "metadata": {},
   "source": [
    "## Preprocessing"
   ]
  },
  {
   "cell_type": "markdown",
   "id": "6d015d36",
   "metadata": {},
   "source": [
    "[...]"
   ]
  },
  {
   "cell_type": "markdown",
   "id": "8acfb8ad",
   "metadata": {},
   "source": [
    "First I need to clean the data to make sure the values are all valid. "
   ]
  },
  {
   "cell_type": "markdown",
   "id": "228fbcb5",
   "metadata": {},
   "source": [
    "#### marital-status"
   ]
  },
  {
   "cell_type": "markdown",
   "id": "073b26ff",
   "metadata": {},
   "source": [
    "[...]"
   ]
  },
  {
   "cell_type": "code",
   "execution_count": 6,
   "id": "9fdc3371",
   "metadata": {},
   "outputs": [],
   "source": [
    "df[\"marital-status\"] = df[\"marital-status\"].str.lower()"
   ]
  },
  {
   "cell_type": "code",
   "execution_count": 498,
   "id": "e2e8ae26",
   "metadata": {},
   "outputs": [
    {
     "data": {
      "text/plain": [
       "marital-status\n",
       "married     26341\n",
       "single      12422\n",
       "divorced     5051\n",
       "Name: count, dtype: int64"
      ]
     },
     "execution_count": 498,
     "metadata": {},
     "output_type": "execute_result"
    }
   ],
   "source": [
    "df[\"marital-status\"].value_counts()"
   ]
  },
  {
   "cell_type": "code",
   "execution_count": 499,
   "id": "48eb7a40",
   "metadata": {},
   "outputs": [
    {
     "data": {
      "text/plain": [
       "job               1322\n",
       "marital-status    1397\n",
       "education         1358\n",
       "previous          1339\n",
       "dtype: int64"
      ]
     },
     "execution_count": 499,
     "metadata": {},
     "output_type": "execute_result"
    }
   ],
   "source": [
    "#Check which columns has null values:\n",
    "df.isna().sum()[df.isna().sum() > 0]"
   ]
  },
  {
   "cell_type": "markdown",
   "id": "0ccc1964",
   "metadata": {},
   "source": [
    "[...]"
   ]
  },
  {
   "cell_type": "code",
   "execution_count": 7,
   "id": "e2881ad1",
   "metadata": {},
   "outputs": [
    {
     "data": {
      "text/plain": [
       "array(['married', 'single', 'divorced', 'unknown'], dtype=object)"
      ]
     },
     "execution_count": 7,
     "metadata": {},
     "output_type": "execute_result"
    }
   ],
   "source": [
    "df[\"marital-status\"] = df[\"marital-status\"].fillna(\"unknown\")\n",
    "df[\"marital-status\"].unique()"
   ]
  },
  {
   "cell_type": "markdown",
   "id": "f5cbe222",
   "metadata": {},
   "source": [
    "### Prepare for Random Forest"
   ]
  },
  {
   "cell_type": "markdown",
   "id": "74c45e6f",
   "metadata": {},
   "source": [
    "Here the student begins going into an analytical mode to examine relationships between different variables in the data in order to answer their questions."
   ]
  },
  {
   "cell_type": "code",
   "execution_count": 8,
   "id": "b9f40edc",
   "metadata": {},
   "outputs": [
    {
     "data": {
      "text/plain": [
       "[Ellipsis]"
      ]
     },
     "execution_count": 8,
     "metadata": {},
     "output_type": "execute_result"
    }
   ],
   "source": [
    "[...]"
   ]
  },
  {
   "cell_type": "markdown",
   "id": "d155af79",
   "metadata": {},
   "source": [
    "## Analysis"
   ]
  },
  {
   "cell_type": "markdown",
   "id": "529f1879",
   "metadata": {},
   "source": [
    "### Investigating correlations "
   ]
  },
  {
   "cell_type": "markdown",
   "id": "1df7ee1d",
   "metadata": {},
   "source": [
    "[...]"
   ]
  },
  {
   "cell_type": "code",
   "execution_count": 508,
   "id": "7c3dc08c",
   "metadata": {},
   "outputs": [],
   "source": [
    "import seaborn as sns #For heatmap"
   ]
  },
  {
   "cell_type": "code",
   "execution_count": 509,
   "id": "7dd7b663",
   "metadata": {},
   "outputs": [
    {
     "data": {
      "image/png": "[encoded data removed]",
      "text/plain": [
       "<Figure size 640x480 with 2 Axes>"
      ]
     },
     "metadata": {},
     "output_type": "display_data"
    }
   ],
   "source": [
    "sns.heatmap(df.corr(numeric_only=True))\n",
    "plt.show()"
   ]
  },
  {
   "cell_type": "markdown",
   "id": "802dadf6",
   "metadata": {},
   "source": [
    "### Examination of the first hypothesis"
   ]
  },
  {
   "cell_type": "markdown",
   "id": "1f142824",
   "metadata": {},
   "source": [
    "Here the student analysis their first hypothesis"
   ]
  },
  {
   "cell_type": "code",
   "execution_count": 10,
   "id": "5f63c17e",
   "metadata": {},
   "outputs": [
    {
     "data": {
      "image/png": "[encoded data removed]",
      "text/plain": [
       "<Figure size 640x480 with 1 Axes>"
      ]
     },
     "metadata": {},
     "output_type": "display_data"
    }
   ],
   "source": [
    "[...]"
   ]
  },
  {
   "cell_type": "markdown",
   "id": "ab570dde",
   "metadata": {},
   "source": [
    "### Evaluation of the first hypothesis"
   ]
  },
  {
   "cell_type": "markdown",
   "id": "6431c773",
   "metadata": {},
   "source": [
    "Here the student begins evaluating their analysis of the first hypothesis"
   ]
  },
  {
   "cell_type": "markdown",
   "id": "a571b8b1",
   "metadata": {},
   "source": [
    "#### Random forest model"
   ]
  },
  {
   "cell_type": "markdown",
   "id": "f84c1317",
   "metadata": {},
   "source": [
    "[...]"
   ]
  },
  {
   "cell_type": "code",
   "execution_count": 14,
   "id": "1472b6e0",
   "metadata": {},
   "outputs": [],
   "source": [
    "# Here the student imports packages needed for inferential statistics"
   ]
  },
  {
   "cell_type": "markdown",
   "id": "b9869bce",
   "metadata": {},
   "source": [
    "[...]"
   ]
  },
  {
   "cell_type": "code",
   "execution_count": 15,
   "id": "4c7cc085",
   "metadata": {},
   "outputs": [],
   "source": [
    "# Here the student splits the dataset into a part for analysis and a part for validation"
   ]
  },
  {
   "cell_type": "code",
   "execution_count": 16,
   "id": "b90c82a1",
   "metadata": {},
   "outputs": [],
   "source": [
    "# Here the student uses a random forest classifier to examine specific variables,\n",
    "# evaluates the modelling on the data using classification metrics\n",
    "# and examines the explanatory importance of each input variable."
   ]
  },
  {
   "cell_type": "markdown",
   "id": "184f68cf",
   "metadata": {},
   "source": [
    "#### Elaboration of the first hypothesis"
   ]
  },
  {
   "cell_type": "markdown",
   "id": "cab43123",
   "metadata": {},
   "source": [
    "[...]"
   ]
  },
  {
   "cell_type": "code",
   "execution_count": 516,
   "id": "86669743",
   "metadata": {},
   "outputs": [
    {
     "name": "stdout",
     "output_type": "stream",
     "text": [
      "              precision    recall  f1-score   support\n",
      "\n",
      "     failure       0.86      0.89      0.87       467\n",
      "     success       0.67      0.60      0.63       175\n",
      "\n",
      "    accuracy                           0.81       642\n",
      "   macro avg       0.76      0.74      0.75       642\n",
      "weighted avg       0.80      0.81      0.81       642\n",
      "\n",
      "Feature importances:\n",
      "\tprevious-campaign-result: 1.00\n"
     ]
    }
   ],
   "source": [
    "random_forest_classifier(df_prev, [\"previous-campaign-result\"], \"marketing-result\")"
   ]
  },
  {
   "cell_type": "markdown",
   "id": "7d70be65",
   "metadata": {},
   "source": [
    "#### Elaboration of the first hypothesis"
   ]
  },
  {
   "cell_type": "markdown",
   "id": "0aa134ef",
   "metadata": {},
   "source": [
    "Here the student interprets the results of this part of the analysis."
   ]
  },
  {
   "cell_type": "markdown",
   "id": "88d352c4",
   "metadata": {},
   "source": [
    "The student then continues the examination of the other questions and hypotheses."
   ]
  },
  {
   "cell_type": "markdown",
   "id": "6080e0b8",
   "metadata": {},
   "source": [
    "## Conclusion "
   ]
  },
  {
   "cell_type": "markdown",
   "id": "1c0e8efd",
   "metadata": {},
   "source": [
    "Here the student concludes on the individual questions and hypotheses and overall on the analysis."
   ]
  },
  {
   "cell_type": "markdown",
   "id": "c5ca1ab3",
   "metadata": {},
   "source": [
    "## References"
   ]
  },
  {
   "cell_type": "markdown",
   "id": "a29942bb",
   "metadata": {},
   "source": [
    "[...]"
   ]
  }
 ],
 "metadata": {
  "kernelspec": {
   "display_name": "Python [conda env:data-intelligence-exam]",
   "language": "python",
   "name": "conda-env-data-intelligence-exam-py"
  },
  "language_info": {
   "codemirror_mode": {
    "name": "ipython",
    "version": 3
   },
   "file_extension": ".py",
   "mimetype": "text/x-python",
   "name": "python",
   "nbconvert_exporter": "python",
   "pygments_lexer": "ipython3",
   "version": "3.10.17"
  }
 },
 "nbformat": 4,
 "nbformat_minor": 5
}
